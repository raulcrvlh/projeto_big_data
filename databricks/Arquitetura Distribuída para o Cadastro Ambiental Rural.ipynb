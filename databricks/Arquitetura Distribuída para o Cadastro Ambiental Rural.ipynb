{
 "cells": [
  {
   "cell_type": "markdown",
   "metadata": {
    "application/vnd.databricks.v1+cell": {
     "cellMetadata": {
      "byteLimit": 2048000,
      "rowLimit": 10000
     },
     "inputWidgets": {},
     "nuid": "5d43643e-4072-4098-8682-c112735ecf87",
     "showTitle": false,
     "tableResultSettingsMap": {},
     "title": ""
    }
   },
   "source": [
    "###Desenvolvimento e Avaliação de uma Arquitetura Distribuída para o Cadastro Ambiental Rural"
   ]
  },
  {
   "cell_type": "code",
   "execution_count": 0,
   "metadata": {
    "application/vnd.databricks.v1+cell": {
     "cellMetadata": {
      "byteLimit": 2048000,
      "rowLimit": 10000
     },
     "inputWidgets": {},
     "nuid": "523cb688-b3e2-41c3-8618-71c724086485",
     "showTitle": false,
     "tableResultSettingsMap": {},
     "title": ""
    }
   },
   "outputs": [
    {
     "output_type": "execute_result",
     "data": {
      "text/plain": [
       "True"
      ]
     },
     "execution_count": 1,
     "metadata": {},
     "output_type": "execute_result"
    }
   ],
   "source": [
    "# Criação da pasta \"CADASTRO AMBIENTAL\" em /FileStore/tables/\n",
    "dbutils.fs.mkdirs(\"/FileStore/tables/cadastro_ambiental\")"
   ]
  },
  {
   "cell_type": "code",
   "execution_count": 0,
   "metadata": {
    "application/vnd.databricks.v1+cell": {
     "cellMetadata": {
      "byteLimit": 2048000,
      "rowLimit": 10000
     },
     "inputWidgets": {},
     "nuid": "83b930be-47cc-4a7c-bb42-45abe668a835",
     "showTitle": false,
     "tableResultSettingsMap": {},
     "title": ""
    }
   },
   "outputs": [],
   "source": [
    "# Upload do arquivo na pasta do projeto"
   ]
  },
  {
   "cell_type": "code",
   "execution_count": 0,
   "metadata": {
    "application/vnd.databricks.v1+cell": {
     "cellMetadata": {
      "byteLimit": 2048000,
      "rowLimit": 10000
     },
     "inputWidgets": {},
     "nuid": "808dec64-2cfd-4dc8-b596-dce81aa69632",
     "showTitle": false,
     "tableResultSettingsMap": {},
     "title": ""
    }
   },
   "outputs": [
    {
     "output_type": "display_data",
     "data": {
      "text/html": [
       "<style scoped>\n",
       "  .table-result-container {\n",
       "    max-height: 300px;\n",
       "    overflow: auto;\n",
       "  }\n",
       "  table, th, td {\n",
       "    border: 1px solid black;\n",
       "    border-collapse: collapse;\n",
       "  }\n",
       "  th, td {\n",
       "    padding: 5px;\n",
       "  }\n",
       "  th {\n",
       "    text-align: left;\n",
       "  }\n",
       "</style><div class='table-result-container'><table class='table-result'><thead style='background-color: white'><tr><th>path</th><th>name</th><th>size</th><th>modificationTime</th></tr></thead><tbody><tr><td>dbfs:/FileStore/tables/cadastro_ambiental/delta_temas_ambientais/</td><td>delta_temas_ambientais/</td><td>0</td><td>0</td></tr><tr><td>dbfs:/FileStore/tables/cadastro_ambiental/gold_temas_ambientais/</td><td>gold_temas_ambientais/</td><td>0</td><td>0</td></tr><tr><td>dbfs:/FileStore/tables/cadastro_ambiental/temas_ambientais_csv.gz</td><td>temas_ambientais_csv.gz</td><td>731449146</td><td>1733014308000</td></tr></tbody></table></div>"
      ]
     },
     "metadata": {
      "application/vnd.databricks.v1+output": {
       "addedWidgets": {},
       "aggData": [],
       "aggError": "",
       "aggOverflow": false,
       "aggSchema": [],
       "aggSeriesLimitReached": false,
       "aggType": "",
       "arguments": {},
       "columnCustomDisplayInfos": {},
       "data": [
        [
         "dbfs:/FileStore/tables/cadastro_ambiental/delta_temas_ambientais/",
         "delta_temas_ambientais/",
         0,
         0
        ],
        [
         "dbfs:/FileStore/tables/cadastro_ambiental/gold_temas_ambientais/",
         "gold_temas_ambientais/",
         0,
         0
        ],
        [
         "dbfs:/FileStore/tables/cadastro_ambiental/temas_ambientais_csv.gz",
         "temas_ambientais_csv.gz",
         731449146,
         1733014308000
        ]
       ],
       "datasetInfos": [],
       "dbfsResultPath": null,
       "isJsonSchema": true,
       "metadata": {},
       "overflow": false,
       "plotOptions": {
        "customPlotOptions": {},
        "displayType": "table",
        "pivotAggregation": null,
        "pivotColumns": null,
        "xColumns": null,
        "yColumns": null
       },
       "removedWidgets": [],
       "schema": [
        {
         "metadata": "{}",
         "name": "path",
         "type": "\"string\""
        },
        {
         "metadata": "{}",
         "name": "name",
         "type": "\"string\""
        },
        {
         "metadata": "{}",
         "name": "size",
         "type": "\"long\""
        },
        {
         "metadata": "{}",
         "name": "modificationTime",
         "type": "\"long\""
        }
       ],
       "type": "table"
      }
     },
     "output_type": "display_data"
    }
   ],
   "source": [
    "display(dbutils.fs.ls(\"/FileStore/tables/cadastro_ambiental\"))"
   ]
  },
  {
   "cell_type": "code",
   "execution_count": 0,
   "metadata": {
    "application/vnd.databricks.v1+cell": {
     "cellMetadata": {
      "byteLimit": 2048000,
      "rowLimit": 10000
     },
     "inputWidgets": {},
     "nuid": "1a3ae54b-b384-41b6-a3d1-db4c2493dfed",
     "showTitle": false,
     "tableResultSettingsMap": {},
     "title": ""
    }
   },
   "outputs": [],
   "source": [
    "# Definindo os Caminhos\n",
    "compressed_file_path = \"/FileStore/tables/cadastro_ambiental/temas_ambientais_csv.gz\"\n",
    "delta_table_path = \"/FileStore/tables/cadastro_ambiental/delta_temas_ambientais\"\n"
   ]
  },
  {
   "cell_type": "code",
   "execution_count": 0,
   "metadata": {
    "application/vnd.databricks.v1+cell": {
     "cellMetadata": {
      "byteLimit": 2048000,
      "rowLimit": 10000
     },
     "inputWidgets": {},
     "nuid": "0d26f5da-f217-4c75-bae2-9e9abfa01d99",
     "showTitle": false,
     "tableResultSettingsMap": {},
     "title": ""
    }
   },
   "outputs": [
    {
     "output_type": "display_data",
     "data": {
      "text/html": [
       "<style scoped>\n",
       "  .table-result-container {\n",
       "    max-height: 300px;\n",
       "    overflow: auto;\n",
       "  }\n",
       "  table, th, td {\n",
       "    border: 1px solid black;\n",
       "    border-collapse: collapse;\n",
       "  }\n",
       "  th, td {\n",
       "    padding: 5px;\n",
       "  }\n",
       "  th {\n",
       "    text-align: left;\n",
       "  }\n",
       "</style><div class='table-result-container'><table class='table-result'><thead style='background-color: white'><tr><th>path</th><th>name</th><th>size</th><th>modificationTime</th></tr></thead><tbody><tr><td>dbfs:/FileStore/tables/cadastro_ambiental/temas_ambientais_csv.gz</td><td>temas_ambientais_csv.gz</td><td>731449146</td><td>1733014308000</td></tr></tbody></table></div>"
      ]
     },
     "metadata": {
      "application/vnd.databricks.v1+output": {
       "addedWidgets": {},
       "aggData": [],
       "aggError": "",
       "aggOverflow": false,
       "aggSchema": [],
       "aggSeriesLimitReached": false,
       "aggType": "",
       "arguments": {},
       "columnCustomDisplayInfos": {},
       "data": [
        [
         "dbfs:/FileStore/tables/cadastro_ambiental/temas_ambientais_csv.gz",
         "temas_ambientais_csv.gz",
         731449146,
         1733014308000
        ]
       ],
       "datasetInfos": [],
       "dbfsResultPath": null,
       "isJsonSchema": true,
       "metadata": {},
       "overflow": false,
       "plotOptions": {
        "customPlotOptions": {},
        "displayType": "table",
        "pivotAggregation": null,
        "pivotColumns": null,
        "xColumns": null,
        "yColumns": null
       },
       "removedWidgets": [],
       "schema": [
        {
         "metadata": "{}",
         "name": "path",
         "type": "\"string\""
        },
        {
         "metadata": "{}",
         "name": "name",
         "type": "\"string\""
        },
        {
         "metadata": "{}",
         "name": "size",
         "type": "\"long\""
        },
        {
         "metadata": "{}",
         "name": "modificationTime",
         "type": "\"long\""
        }
       ],
       "type": "table"
      }
     },
     "output_type": "display_data"
    }
   ],
   "source": [
    "display(dbutils.fs.ls(\"/FileStore/tables/cadastro_ambiental/temas_ambientais_csv.gz\"))"
   ]
  },
  {
   "cell_type": "code",
   "execution_count": 0,
   "metadata": {
    "application/vnd.databricks.v1+cell": {
     "cellMetadata": {
      "byteLimit": 2048000,
      "rowLimit": 10000
     },
     "inputWidgets": {},
     "nuid": "a8f0b463-6fe1-4e1b-9158-b8f5e45c5a2e",
     "showTitle": false,
     "tableResultSettingsMap": {},
     "title": ""
    }
   },
   "outputs": [
    {
     "output_type": "display_data",
     "data": {
      "text/html": [
       "<style scoped>\n",
       "  .table-result-container {\n",
       "    max-height: 300px;\n",
       "    overflow: auto;\n",
       "  }\n",
       "  table, th, td {\n",
       "    border: 1px solid black;\n",
       "    border-collapse: collapse;\n",
       "  }\n",
       "  th, td {\n",
       "    padding: 5px;\n",
       "  }\n",
       "  th {\n",
       "    text-align: left;\n",
       "  }\n",
       "</style><div class='table-result-container'><table class='table-result'><thead style='background-color: white'><tr><th>uf</th><th>municipio</th><th>codigo_ibge</th><th>area_do_imovel</th><th>registro_car</th><th>situacao_cadastro</th><th>condicao_cadastro</th><th>area_liquida</th><th>area_remanescente_vegetacao_nativa</th><th>area_reserva_legal_proposta</th><th>area_preservacao_permanente</th><th>area_nao_classificada</th><th>solicitacao_adesao_pra</th><th>latitude</th><th>longitude</th><th>data_inscricao</th><th>data_alteracao_condicao_cadastro</th><th>area_rural_consolidada</th><th>area_servidao_administrativa</th><th>tipo_imovel_rural</th><th>modulos_fiscais</th><th>area_uso_restrito</th><th>area_reserva_legal_averbada</th><th>area_reserva_legal_aprovada_nao_averbada</th><th>area_pousio</th><th>data_ultima_retificacao</th></tr></thead><tbody><tr><td>GO</td><td>Nazário</td><td>5214408</td><td>119.6326</td><td>GO-5214408-3AEF2043582E40238C0F84A553686CA7</td><td>AT</td><td>Analisado com pendências, aguardando retificação e/ou apresentação de documentos</td><td>119.6326</td><td>6.43202795367569</td><td>6.432</td><td>5.29751084282892</td><td>0.00102295610380904</td><td>Sim</td><td>-16.5923058689987</td><td>-49.9019017039191</td><td>2014-05-07T16:01:44.305Z</td><td>null</td><td>112.301149046683</td><td>0.0</td><td>IRU</td><td>5.4378</td><td>0.0</td><td>0.0</td><td>0.0</td><td>0.0</td><td>2014-05-07T16:01:44.305Z</td></tr><tr><td>SC</td><td>Meleiro</td><td>4210803</td><td>7.534</td><td>SC-4210803-BC127B0EC8DB49AC9D46D723286241A2</td><td>AT</td><td>Aguardando análise, não passível de revisão de dados</td><td>7.534</td><td>5.51785410336982</td><td>0.0</td><td>0.0</td><td>0.00159349317984888</td><td>Nao</td><td>-28.7930798512303</td><td>-49.6472023744097</td><td>2014-05-07T16:02:02.915Z</td><td>null</td><td>2.01445162492469</td><td>0.0</td><td>IRU</td><td>0.4186</td><td>0.0</td><td>1.506</td><td>0.0</td><td>0.0</td><td>2014-05-07T16:02:02.915Z</td></tr><tr><td>GO</td><td>Nova Roma</td><td>5214903</td><td>19.4883</td><td>GO-5214903-7F58049BD79046E9A904CC81C5AC177A</td><td>PE</td><td>Analisado com pendências, aguardando retificação e/ou apresentação de documentos</td><td>19.36</td><td>19.4882633569717</td><td>3.872</td><td>0.0</td><td>0.0</td><td>Nao</td><td>-13.6370551503248</td><td>-47.0339670619739</td><td>2014-05-07T16:06:15.777Z</td><td>null</td><td>0.0</td><td>0.0</td><td>IRU</td><td>0.2784</td><td>0.0</td><td>0.0</td><td>0.0</td><td>0.0</td><td>2014-05-07T16:06:15.777Z</td></tr><tr><td>GO</td><td>Santa Helena de Goiás</td><td>5219308</td><td>22.934</td><td>GO-5219308-6478196E75CF4F65800ACA0758575820</td><td>PE</td><td>Analisado com pendências, aguardando retificação</td><td>22.88</td><td>1.5021496193707</td><td>1.5028</td><td>0.568927694143718</td><td>18.2335997514784</td><td>Sim</td><td>-17.8327877579625</td><td>-50.6015145422339</td><td>2014-05-07T17:49:36.938Z</td><td>null</td><td>3.08289042473435</td><td>0.0</td><td>IRU</td><td>1.1467</td><td>0.0</td><td>0.0</td><td>0.0</td><td>0.0</td><td>2014-05-07T17:49:36.938Z</td></tr><tr><td>PR</td><td>Cornélio Procópio</td><td>4106407</td><td>10.956</td><td>PR-4106407-0F06081500254BE3A479EE8EFFDD5319</td><td>AT</td><td>Em análise</td><td>10.956</td><td>0.0</td><td>0.0</td><td>0.0</td><td>0.161657419734154</td><td>Nao</td><td>-23.1841101335722</td><td>-50.6715645967419</td><td>2014-05-07T17:52:55.333Z</td><td>null</td><td>10.7942669028953</td><td>0.0</td><td>IRU</td><td>0.6087</td><td>0.0</td><td>0.0</td><td>0.0</td><td>0.0</td><td>2014-05-07T17:52:55.333Z</td></tr></tbody></table></div>"
      ]
     },
     "metadata": {
      "application/vnd.databricks.v1+output": {
       "addedWidgets": {},
       "aggData": [],
       "aggError": "",
       "aggOverflow": false,
       "aggSchema": [],
       "aggSeriesLimitReached": false,
       "aggType": "",
       "arguments": {},
       "columnCustomDisplayInfos": {},
       "data": [
        [
         "GO",
         "Nazário",
         5214408,
         119.6326,
         "GO-5214408-3AEF2043582E40238C0F84A553686CA7",
         "AT",
         "Analisado com pendências, aguardando retificação e/ou apresentação de documentos",
         119.6326,
         6.43202795367569,
         6.432,
         5.29751084282892,
         0.00102295610380904,
         "Sim",
         -16.5923058689987,
         -49.9019017039191,
         "2014-05-07T16:01:44.305Z",
         null,
         112.301149046683,
         0.0,
         "IRU",
         5.4378,
         0.0,
         0.0,
         0.0,
         0.0,
         "2014-05-07T16:01:44.305Z"
        ],
        [
         "SC",
         "Meleiro",
         4210803,
         7.534,
         "SC-4210803-BC127B0EC8DB49AC9D46D723286241A2",
         "AT",
         "Aguardando análise, não passível de revisão de dados",
         7.534,
         5.51785410336982,
         0.0,
         0.0,
         0.00159349317984888,
         "Nao",
         -28.7930798512303,
         -49.6472023744097,
         "2014-05-07T16:02:02.915Z",
         null,
         2.01445162492469,
         0.0,
         "IRU",
         0.4186,
         0.0,
         1.506,
         0.0,
         0.0,
         "2014-05-07T16:02:02.915Z"
        ],
        [
         "GO",
         "Nova Roma",
         5214903,
         19.4883,
         "GO-5214903-7F58049BD79046E9A904CC81C5AC177A",
         "PE",
         "Analisado com pendências, aguardando retificação e/ou apresentação de documentos",
         19.36,
         19.4882633569717,
         3.872,
         0.0,
         0.0,
         "Nao",
         -13.6370551503248,
         -47.0339670619739,
         "2014-05-07T16:06:15.777Z",
         null,
         0.0,
         0.0,
         "IRU",
         0.2784,
         0.0,
         0.0,
         0.0,
         0.0,
         "2014-05-07T16:06:15.777Z"
        ],
        [
         "GO",
         "Santa Helena de Goiás",
         5219308,
         22.934,
         "GO-5219308-6478196E75CF4F65800ACA0758575820",
         "PE",
         "Analisado com pendências, aguardando retificação",
         22.88,
         1.5021496193707,
         1.5028,
         0.568927694143718,
         18.2335997514784,
         "Sim",
         -17.8327877579625,
         -50.6015145422339,
         "2014-05-07T17:49:36.938Z",
         null,
         3.08289042473435,
         0.0,
         "IRU",
         1.1467,
         0.0,
         0.0,
         0.0,
         0.0,
         "2014-05-07T17:49:36.938Z"
        ],
        [
         "PR",
         "Cornélio Procópio",
         4106407,
         10.956,
         "PR-4106407-0F06081500254BE3A479EE8EFFDD5319",
         "AT",
         "Em análise",
         10.956,
         0.0,
         0.0,
         0.0,
         0.161657419734154,
         "Nao",
         -23.1841101335722,
         -50.6715645967419,
         "2014-05-07T17:52:55.333Z",
         null,
         10.7942669028953,
         0.0,
         "IRU",
         0.6087,
         0.0,
         0.0,
         0.0,
         0.0,
         "2014-05-07T17:52:55.333Z"
        ]
       ],
       "datasetInfos": [],
       "dbfsResultPath": null,
       "isJsonSchema": true,
       "metadata": {},
       "overflow": false,
       "plotOptions": {
        "customPlotOptions": {},
        "displayType": "table",
        "pivotAggregation": null,
        "pivotColumns": null,
        "xColumns": null,
        "yColumns": null
       },
       "removedWidgets": [],
       "schema": [
        {
         "metadata": "{}",
         "name": "uf",
         "type": "\"string\""
        },
        {
         "metadata": "{}",
         "name": "municipio",
         "type": "\"string\""
        },
        {
         "metadata": "{}",
         "name": "codigo_ibge",
         "type": "\"integer\""
        },
        {
         "metadata": "{}",
         "name": "area_do_imovel",
         "type": "\"double\""
        },
        {
         "metadata": "{}",
         "name": "registro_car",
         "type": "\"string\""
        },
        {
         "metadata": "{}",
         "name": "situacao_cadastro",
         "type": "\"string\""
        },
        {
         "metadata": "{}",
         "name": "condicao_cadastro",
         "type": "\"string\""
        },
        {
         "metadata": "{}",
         "name": "area_liquida",
         "type": "\"double\""
        },
        {
         "metadata": "{}",
         "name": "area_remanescente_vegetacao_nativa",
         "type": "\"double\""
        },
        {
         "metadata": "{}",
         "name": "area_reserva_legal_proposta",
         "type": "\"double\""
        },
        {
         "metadata": "{}",
         "name": "area_preservacao_permanente",
         "type": "\"double\""
        },
        {
         "metadata": "{}",
         "name": "area_nao_classificada",
         "type": "\"double\""
        },
        {
         "metadata": "{}",
         "name": "solicitacao_adesao_pra",
         "type": "\"string\""
        },
        {
         "metadata": "{}",
         "name": "latitude",
         "type": "\"double\""
        },
        {
         "metadata": "{}",
         "name": "longitude",
         "type": "\"double\""
        },
        {
         "metadata": "{}",
         "name": "data_inscricao",
         "type": "\"timestamp\""
        },
        {
         "metadata": "{}",
         "name": "data_alteracao_condicao_cadastro",
         "type": "\"timestamp\""
        },
        {
         "metadata": "{}",
         "name": "area_rural_consolidada",
         "type": "\"double\""
        },
        {
         "metadata": "{}",
         "name": "area_servidao_administrativa",
         "type": "\"double\""
        },
        {
         "metadata": "{}",
         "name": "tipo_imovel_rural",
         "type": "\"string\""
        },
        {
         "metadata": "{}",
         "name": "modulos_fiscais",
         "type": "\"double\""
        },
        {
         "metadata": "{}",
         "name": "area_uso_restrito",
         "type": "\"double\""
        },
        {
         "metadata": "{}",
         "name": "area_reserva_legal_averbada",
         "type": "\"double\""
        },
        {
         "metadata": "{}",
         "name": "area_reserva_legal_aprovada_nao_averbada",
         "type": "\"double\""
        },
        {
         "metadata": "{}",
         "name": "area_pousio",
         "type": "\"double\""
        },
        {
         "metadata": "{}",
         "name": "data_ultima_retificacao",
         "type": "\"timestamp\""
        }
       ],
       "type": "table"
      }
     },
     "output_type": "display_data"
    }
   ],
   "source": [
    "# Leitura do Arquivo GZIP / CSV\n",
    "from pyspark.sql import SparkSession\n",
    "\n",
    "# Criar sessão Spark\n",
    "spark = SparkSession.builder.appName(\"ProcessarCadastroAmbiental\").getOrCreate()\n",
    "\n",
    "# Ler o arquivo CSV compactado\n",
    "# Define que o CSV tem cabeçalhos\n",
    "# Inferir automaticamente o tipo de dados\n",
    "# Define o delimitador como \";\"\n",
    "df = spark.read.format(\"csv\") \\\n",
    "    .option(\"header\", \"true\") \\\n",
    "    .option(\"inferSchema\", \"true\") \\\n",
    "    .option(\"delimiter\", \";\") \\\n",
    "    .load(compressed_file_path)\n",
    "\n",
    "# Mostrar os dados para validar\n",
    "df.limit(5).display()\n"
   ]
  },
  {
   "cell_type": "code",
   "execution_count": 0,
   "metadata": {
    "application/vnd.databricks.v1+cell": {
     "cellMetadata": {
      "byteLimit": 2048000,
      "rowLimit": 10000
     },
     "inputWidgets": {},
     "nuid": "68edf951-7e1b-41a4-a042-ca373703ea1a",
     "showTitle": false,
     "tableResultSettingsMap": {},
     "title": ""
    }
   },
   "outputs": [
    {
     "output_type": "stream",
     "name": "stdout",
     "output_type": "stream",
     "text": [
      "root\n |-- uf: string (nullable = true)\n |-- municipio: string (nullable = true)\n |-- codigo_ibge: integer (nullable = true)\n |-- area_do_imovel: double (nullable = true)\n |-- registro_car: string (nullable = true)\n |-- situacao_cadastro: string (nullable = true)\n |-- condicao_cadastro: string (nullable = true)\n |-- area_liquida: double (nullable = true)\n |-- area_remanescente_vegetacao_nativa: double (nullable = true)\n |-- area_reserva_legal_proposta: double (nullable = true)\n |-- area_preservacao_permanente: double (nullable = true)\n |-- area_nao_classificada: double (nullable = true)\n |-- solicitacao_adesao_pra: string (nullable = true)\n |-- latitude: double (nullable = true)\n |-- longitude: double (nullable = true)\n |-- data_inscricao: timestamp (nullable = true)\n |-- data_alteracao_condicao_cadastro: timestamp (nullable = true)\n |-- area_rural_consolidada: double (nullable = true)\n |-- area_servidao_administrativa: double (nullable = true)\n |-- tipo_imovel_rural: string (nullable = true)\n |-- modulos_fiscais: double (nullable = true)\n |-- area_uso_restrito: double (nullable = true)\n |-- area_reserva_legal_averbada: double (nullable = true)\n |-- area_reserva_legal_aprovada_nao_averbada: double (nullable = true)\n |-- area_pousio: double (nullable = true)\n |-- data_ultima_retificacao: timestamp (nullable = true)\n\n"
     ]
    }
   ],
   "source": [
    "df.printSchema()"
   ]
  },
  {
   "cell_type": "code",
   "execution_count": 0,
   "metadata": {
    "application/vnd.databricks.v1+cell": {
     "cellMetadata": {
      "byteLimit": 2048000,
      "rowLimit": 10000
     },
     "inputWidgets": {},
     "nuid": "f7f1dc32-c93e-4edd-a928-b0c512c51723",
     "showTitle": false,
     "tableResultSettingsMap": {},
     "title": ""
    }
   },
   "outputs": [
    {
     "output_type": "execute_result",
     "data": {
      "text/plain": [
       "[('uf', 'string'),\n",
       " ('municipio', 'string'),\n",
       " ('codigo_ibge', 'int'),\n",
       " ('area_do_imovel', 'double'),\n",
       " ('registro_car', 'string'),\n",
       " ('situacao_cadastro', 'string'),\n",
       " ('condicao_cadastro', 'string'),\n",
       " ('area_liquida', 'double'),\n",
       " ('area_remanescente_vegetacao_nativa', 'double'),\n",
       " ('area_reserva_legal_proposta', 'double'),\n",
       " ('area_preservacao_permanente', 'double'),\n",
       " ('area_nao_classificada', 'double'),\n",
       " ('solicitacao_adesao_pra', 'string'),\n",
       " ('latitude', 'double'),\n",
       " ('longitude', 'double'),\n",
       " ('data_inscricao', 'timestamp'),\n",
       " ('data_alteracao_condicao_cadastro', 'timestamp'),\n",
       " ('area_rural_consolidada', 'double'),\n",
       " ('area_servidao_administrativa', 'double'),\n",
       " ('tipo_imovel_rural', 'string'),\n",
       " ('modulos_fiscais', 'double'),\n",
       " ('area_uso_restrito', 'double'),\n",
       " ('area_reserva_legal_averbada', 'double'),\n",
       " ('area_reserva_legal_aprovada_nao_averbada', 'double'),\n",
       " ('area_pousio', 'double'),\n",
       " ('data_ultima_retificacao', 'timestamp')]"
      ]
     },
     "execution_count": 8,
     "metadata": {},
     "output_type": "execute_result"
    }
   ],
   "source": [
    "df.dtypes"
   ]
  },
  {
   "cell_type": "code",
   "execution_count": 0,
   "metadata": {
    "application/vnd.databricks.v1+cell": {
     "cellMetadata": {
      "byteLimit": 2048000,
      "rowLimit": 10000
     },
     "inputWidgets": {},
     "nuid": "13752f51-2748-43b1-a692-4fd6787f3678",
     "showTitle": false,
     "tableResultSettingsMap": {},
     "title": ""
    }
   },
   "outputs": [
    {
     "output_type": "execute_result",
     "data": {
      "text/plain": [
       "6839104"
      ]
     },
     "execution_count": 9,
     "metadata": {},
     "output_type": "execute_result"
    }
   ],
   "source": [
    "df.count()"
   ]
  },
  {
   "cell_type": "code",
   "execution_count": 0,
   "metadata": {
    "application/vnd.databricks.v1+cell": {
     "cellMetadata": {
      "byteLimit": 2048000,
      "rowLimit": 10000
     },
     "inputWidgets": {},
     "nuid": "02ba4d78-2a8f-48a8-98dd-e72b6a8ef6a2",
     "showTitle": false,
     "tableResultSettingsMap": {},
     "title": ""
    }
   },
   "outputs": [],
   "source": [
    "# Salvar os dados como Delta Lake\n",
    "df.write.format(\"delta\").mode(\"overwrite\").save(delta_table_path)"
   ]
  },
  {
   "cell_type": "code",
   "execution_count": 0,
   "metadata": {
    "application/vnd.databricks.v1+cell": {
     "cellMetadata": {
      "byteLimit": 2048000,
      "rowLimit": 10000
     },
     "inputWidgets": {},
     "nuid": "4aa4666b-f622-4d5c-a4e7-b6e19b8edce2",
     "showTitle": false,
     "tableResultSettingsMap": {},
     "title": ""
    }
   },
   "outputs": [
    {
     "output_type": "display_data",
     "data": {
      "text/html": [
       "<style scoped>\n",
       "  .table-result-container {\n",
       "    max-height: 300px;\n",
       "    overflow: auto;\n",
       "  }\n",
       "  table, th, td {\n",
       "    border: 1px solid black;\n",
       "    border-collapse: collapse;\n",
       "  }\n",
       "  th, td {\n",
       "    padding: 5px;\n",
       "  }\n",
       "  th {\n",
       "    text-align: left;\n",
       "  }\n",
       "</style><div class='table-result-container'><table class='table-result'><thead style='background-color: white'><tr><th>path</th><th>name</th><th>size</th><th>modificationTime</th></tr></thead><tbody><tr><td>dbfs:/FileStore/tables/cadastro_ambiental/delta_temas_ambientais/_delta_log/</td><td>_delta_log/</td><td>0</td><td>0</td></tr><tr><td>dbfs:/FileStore/tables/cadastro_ambiental/delta_temas_ambientais/part-00000-385bc86e-1629-430e-b76f-1bf11b97c69d-c000.snappy.parquet</td><td>part-00000-385bc86e-1629-430e-b76f-1bf11b97c69d-c000.snappy.parquet</td><td>808912071</td><td>1733103685000</td></tr><tr><td>dbfs:/FileStore/tables/cadastro_ambiental/delta_temas_ambientais/part-00000-464a0156-62ca-47e3-ba86-f58ddfc326a7-c000.snappy.parquet</td><td>part-00000-464a0156-62ca-47e3-ba86-f58ddfc326a7-c000.snappy.parquet</td><td>808912071</td><td>1733158736000</td></tr><tr><td>dbfs:/FileStore/tables/cadastro_ambiental/delta_temas_ambientais/part-00000-565de7a1-4107-41ca-891b-ce333bc650c1-c000.snappy.parquet</td><td>part-00000-565de7a1-4107-41ca-891b-ce333bc650c1-c000.snappy.parquet</td><td>808912071</td><td>1733149927000</td></tr><tr><td>dbfs:/FileStore/tables/cadastro_ambiental/delta_temas_ambientais/part-00000-74a039b1-e08c-46d3-be8d-419131535315-c000.snappy.parquet</td><td>part-00000-74a039b1-e08c-46d3-be8d-419131535315-c000.snappy.parquet</td><td>808912071</td><td>1733104312000</td></tr><tr><td>dbfs:/FileStore/tables/cadastro_ambiental/delta_temas_ambientais/part-00000-a9898c3f-aa2a-48d6-a837-c1213e24333f-c000.snappy.parquet</td><td>part-00000-a9898c3f-aa2a-48d6-a837-c1213e24333f-c000.snappy.parquet</td><td>808912071</td><td>1733068596000</td></tr><tr><td>dbfs:/FileStore/tables/cadastro_ambiental/delta_temas_ambientais/part-00000-bd5ff4a3-2fe1-4bf8-b5f8-63402f6ccbe3-c000.snappy.parquet</td><td>part-00000-bd5ff4a3-2fe1-4bf8-b5f8-63402f6ccbe3-c000.snappy.parquet</td><td>808912071</td><td>1733017443000</td></tr><tr><td>dbfs:/FileStore/tables/cadastro_ambiental/delta_temas_ambientais/part-00000-d3558dc1-dd88-4ff4-b709-2146c5975cbc-c000.snappy.parquet</td><td>part-00000-d3558dc1-dd88-4ff4-b709-2146c5975cbc-c000.snappy.parquet</td><td>808912071</td><td>1733052775000</td></tr><tr><td>dbfs:/FileStore/tables/cadastro_ambiental/delta_temas_ambientais/part-00000-fd45aec3-7982-4f68-973b-217b3ef6721e-c000.snappy.parquet</td><td>part-00000-fd45aec3-7982-4f68-973b-217b3ef6721e-c000.snappy.parquet</td><td>808912071</td><td>1733062446000</td></tr></tbody></table></div>"
      ]
     },
     "metadata": {
      "application/vnd.databricks.v1+output": {
       "addedWidgets": {},
       "aggData": [],
       "aggError": "",
       "aggOverflow": false,
       "aggSchema": [],
       "aggSeriesLimitReached": false,
       "aggType": "",
       "arguments": {},
       "columnCustomDisplayInfos": {},
       "data": [
        [
         "dbfs:/FileStore/tables/cadastro_ambiental/delta_temas_ambientais/_delta_log/",
         "_delta_log/",
         0,
         0
        ],
        [
         "dbfs:/FileStore/tables/cadastro_ambiental/delta_temas_ambientais/part-00000-385bc86e-1629-430e-b76f-1bf11b97c69d-c000.snappy.parquet",
         "part-00000-385bc86e-1629-430e-b76f-1bf11b97c69d-c000.snappy.parquet",
         808912071,
         1733103685000
        ],
        [
         "dbfs:/FileStore/tables/cadastro_ambiental/delta_temas_ambientais/part-00000-464a0156-62ca-47e3-ba86-f58ddfc326a7-c000.snappy.parquet",
         "part-00000-464a0156-62ca-47e3-ba86-f58ddfc326a7-c000.snappy.parquet",
         808912071,
         1733158736000
        ],
        [
         "dbfs:/FileStore/tables/cadastro_ambiental/delta_temas_ambientais/part-00000-565de7a1-4107-41ca-891b-ce333bc650c1-c000.snappy.parquet",
         "part-00000-565de7a1-4107-41ca-891b-ce333bc650c1-c000.snappy.parquet",
         808912071,
         1733149927000
        ],
        [
         "dbfs:/FileStore/tables/cadastro_ambiental/delta_temas_ambientais/part-00000-74a039b1-e08c-46d3-be8d-419131535315-c000.snappy.parquet",
         "part-00000-74a039b1-e08c-46d3-be8d-419131535315-c000.snappy.parquet",
         808912071,
         1733104312000
        ],
        [
         "dbfs:/FileStore/tables/cadastro_ambiental/delta_temas_ambientais/part-00000-a9898c3f-aa2a-48d6-a837-c1213e24333f-c000.snappy.parquet",
         "part-00000-a9898c3f-aa2a-48d6-a837-c1213e24333f-c000.snappy.parquet",
         808912071,
         1733068596000
        ],
        [
         "dbfs:/FileStore/tables/cadastro_ambiental/delta_temas_ambientais/part-00000-bd5ff4a3-2fe1-4bf8-b5f8-63402f6ccbe3-c000.snappy.parquet",
         "part-00000-bd5ff4a3-2fe1-4bf8-b5f8-63402f6ccbe3-c000.snappy.parquet",
         808912071,
         1733017443000
        ],
        [
         "dbfs:/FileStore/tables/cadastro_ambiental/delta_temas_ambientais/part-00000-d3558dc1-dd88-4ff4-b709-2146c5975cbc-c000.snappy.parquet",
         "part-00000-d3558dc1-dd88-4ff4-b709-2146c5975cbc-c000.snappy.parquet",
         808912071,
         1733052775000
        ],
        [
         "dbfs:/FileStore/tables/cadastro_ambiental/delta_temas_ambientais/part-00000-fd45aec3-7982-4f68-973b-217b3ef6721e-c000.snappy.parquet",
         "part-00000-fd45aec3-7982-4f68-973b-217b3ef6721e-c000.snappy.parquet",
         808912071,
         1733062446000
        ]
       ],
       "datasetInfos": [],
       "dbfsResultPath": null,
       "isJsonSchema": true,
       "metadata": {},
       "overflow": false,
       "plotOptions": {
        "customPlotOptions": {},
        "displayType": "table",
        "pivotAggregation": null,
        "pivotColumns": null,
        "xColumns": null,
        "yColumns": null
       },
       "removedWidgets": [],
       "schema": [
        {
         "metadata": "{}",
         "name": "path",
         "type": "\"string\""
        },
        {
         "metadata": "{}",
         "name": "name",
         "type": "\"string\""
        },
        {
         "metadata": "{}",
         "name": "size",
         "type": "\"long\""
        },
        {
         "metadata": "{}",
         "name": "modificationTime",
         "type": "\"long\""
        }
       ],
       "type": "table"
      }
     },
     "output_type": "display_data"
    }
   ],
   "source": [
    "display(dbutils.fs.ls(\"/FileStore/tables/cadastro_ambiental/delta_temas_ambientais\"))"
   ]
  },
  {
   "cell_type": "markdown",
   "metadata": {
    "application/vnd.databricks.v1+cell": {
     "cellMetadata": {
      "byteLimit": 2048000,
      "rowLimit": 10000
     },
     "inputWidgets": {},
     "nuid": "117d5fe6-4885-475b-837d-4bfc68283403",
     "showTitle": false,
     "tableResultSettingsMap": {},
     "title": ""
    }
   },
   "source": [
    "###Arquitetura modelo Lakehouse com a estrutura Bronze-Silver-Gold para organização dos dados"
   ]
  },
  {
   "cell_type": "code",
   "execution_count": 0,
   "metadata": {
    "application/vnd.databricks.v1+cell": {
     "cellMetadata": {
      "byteLimit": 2048000,
      "rowLimit": 10000
     },
     "inputWidgets": {},
     "nuid": "d52b5e0c-b0e4-42b1-998f-2926d7c15a91",
     "showTitle": false,
     "tableResultSettingsMap": {},
     "title": ""
    }
   },
   "outputs": [],
   "source": [
    "# Caminho da camada Bronze (dados brutos)\n",
    "bronze_path = \"/FileStore/tables/cadastro_ambiental/delta_temas_ambientais\"\n",
    "\n",
    "# Caminho da camada Silver (dados transformados)\n",
    "silver_path = \"/FileStore/tables/cadastro_ambiental/silver_temas_ambientais\"\n"
   ]
  },
  {
   "cell_type": "code",
   "execution_count": 0,
   "metadata": {
    "application/vnd.databricks.v1+cell": {
     "cellMetadata": {
      "byteLimit": 2048000,
      "rowLimit": 10000
     },
     "inputWidgets": {},
     "nuid": "b69478a5-7d18-4192-865d-1531e68d419a",
     "showTitle": false,
     "tableResultSettingsMap": {},
     "title": ""
    }
   },
   "outputs": [],
   "source": [
    "from pyspark.sql import functions as F\n",
    "\n",
    "# Carregar os dados da camada Bronze\n",
    "df_bronze = spark.read.format(\"delta\").load(bronze_path)"
   ]
  },
  {
   "cell_type": "code",
   "execution_count": 0,
   "metadata": {
    "application/vnd.databricks.v1+cell": {
     "cellMetadata": {
      "byteLimit": 2048000,
      "rowLimit": 10000
     },
     "inputWidgets": {},
     "nuid": "836744dc-8589-41d6-935a-07a22238fe29",
     "showTitle": false,
     "tableResultSettingsMap": {},
     "title": ""
    }
   },
   "outputs": [
    {
     "output_type": "stream",
     "name": "stdout",
     "output_type": "stream",
     "text": [
      "Total de linhas com latitude nula: 0\nTotal de linhas com longitude nula: 0\n"
     ]
    }
   ],
   "source": [
    "from pyspark.sql import functions as F\n",
    "\n",
    "# Contar linhas com latitude ou longitude nulas\n",
    "null_latitude_count = df_bronze.filter(F.col(\"latitude\").isNull()).count()\n",
    "null_longitude_count = df_bronze.filter(F.col(\"longitude\").isNull()).count()\n",
    "\n",
    "# Exibir os resultados\n",
    "print(f\"Total de linhas com latitude nula: {null_latitude_count}\")\n",
    "print(f\"Total de linhas com longitude nula: {null_longitude_count}\")\n"
   ]
  },
  {
   "cell_type": "code",
   "execution_count": 0,
   "metadata": {
    "application/vnd.databricks.v1+cell": {
     "cellMetadata": {
      "byteLimit": 2048000,
      "rowLimit": 10000
     },
     "inputWidgets": {},
     "nuid": "5d13fe93-b396-4599-a52e-f5361aac9fc7",
     "showTitle": false,
     "tableResultSettingsMap": {},
     "title": ""
    }
   },
   "outputs": [
    {
     "output_type": "display_data",
     "data": {
      "text/html": [
       "<style scoped>\n",
       "  .table-result-container {\n",
       "    max-height: 300px;\n",
       "    overflow: auto;\n",
       "  }\n",
       "  table, th, td {\n",
       "    border: 1px solid black;\n",
       "    border-collapse: collapse;\n",
       "  }\n",
       "  th, td {\n",
       "    padding: 5px;\n",
       "  }\n",
       "  th {\n",
       "    text-align: left;\n",
       "  }\n",
       "</style><div class='table-result-container'><table class='table-result'><thead style='background-color: white'><tr><th>path</th><th>name</th><th>size</th><th>modificationTime</th></tr></thead><tbody><tr><td>dbfs:/FileStore/tables/cadastro_ambiental/delta_temas_ambientais/</td><td>delta_temas_ambientais/</td><td>0</td><td>0</td></tr><tr><td>dbfs:/FileStore/tables/cadastro_ambiental/gold_temas_ambientais/</td><td>gold_temas_ambientais/</td><td>0</td><td>0</td></tr><tr><td>dbfs:/FileStore/tables/cadastro_ambiental/temas_ambientais_csv.gz</td><td>temas_ambientais_csv.gz</td><td>731449146</td><td>1733014308000</td></tr></tbody></table></div>"
      ]
     },
     "metadata": {
      "application/vnd.databricks.v1+output": {
       "addedWidgets": {},
       "aggData": [],
       "aggError": "",
       "aggOverflow": false,
       "aggSchema": [],
       "aggSeriesLimitReached": false,
       "aggType": "",
       "arguments": {},
       "columnCustomDisplayInfos": {},
       "data": [
        [
         "dbfs:/FileStore/tables/cadastro_ambiental/delta_temas_ambientais/",
         "delta_temas_ambientais/",
         0,
         0
        ],
        [
         "dbfs:/FileStore/tables/cadastro_ambiental/gold_temas_ambientais/",
         "gold_temas_ambientais/",
         0,
         0
        ],
        [
         "dbfs:/FileStore/tables/cadastro_ambiental/temas_ambientais_csv.gz",
         "temas_ambientais_csv.gz",
         731449146,
         1733014308000
        ]
       ],
       "datasetInfos": [],
       "dbfsResultPath": null,
       "isJsonSchema": true,
       "metadata": {},
       "overflow": false,
       "plotOptions": {
        "customPlotOptions": {},
        "displayType": "table",
        "pivotAggregation": null,
        "pivotColumns": null,
        "xColumns": null,
        "yColumns": null
       },
       "removedWidgets": [],
       "schema": [
        {
         "metadata": "{}",
         "name": "path",
         "type": "\"string\""
        },
        {
         "metadata": "{}",
         "name": "name",
         "type": "\"string\""
        },
        {
         "metadata": "{}",
         "name": "size",
         "type": "\"long\""
        },
        {
         "metadata": "{}",
         "name": "modificationTime",
         "type": "\"long\""
        }
       ],
       "type": "table"
      }
     },
     "output_type": "display_data"
    }
   ],
   "source": [
    "# Listar arquivos no caminho para verificar se foi removido\n",
    "display(dbutils.fs.ls(\"/FileStore/tables/cadastro_ambiental/\"))\n"
   ]
  },
  {
   "cell_type": "code",
   "execution_count": 0,
   "metadata": {
    "application/vnd.databricks.v1+cell": {
     "cellMetadata": {
      "byteLimit": 2048000,
      "rowLimit": 10000
     },
     "inputWidgets": {},
     "nuid": "c6e98f7e-3d69-4cd1-99fa-868944184cb7",
     "showTitle": false,
     "tableResultSettingsMap": {},
     "title": ""
    }
   },
   "outputs": [
    {
     "output_type": "stream",
     "name": "stdout",
     "output_type": "stream",
     "text": [
      "Total de registros únicos por UF: 27\n"
     ]
    }
   ],
   "source": [
    "# Contar registros únicos por UF\n",
    "unique_uf_count = df_bronze.select(\"uf\").distinct().count()\n",
    "print(f\"Total de registros únicos por UF: {unique_uf_count}\")"
   ]
  },
  {
   "cell_type": "code",
   "execution_count": 0,
   "metadata": {
    "application/vnd.databricks.v1+cell": {
     "cellMetadata": {
      "byteLimit": 2048000,
      "rowLimit": 10000
     },
     "inputWidgets": {},
     "nuid": "120bc25f-5778-4b85-b0bf-2e152134abe6",
     "showTitle": false,
     "tableResultSettingsMap": {},
     "title": ""
    }
   },
   "outputs": [
    {
     "output_type": "stream",
     "name": "stdout",
     "output_type": "stream",
     "text": [
      "Total de registros únicos por Município: 5287\n"
     ]
    }
   ],
   "source": [
    "# Contar registros únicos por Municipio\n",
    "unique_municipio_count = df_bronze.select(\"municipio\").distinct().count()\n",
    "print(f\"Total de registros únicos por Município: {unique_municipio_count}\")"
   ]
  },
  {
   "cell_type": "code",
   "execution_count": 0,
   "metadata": {
    "application/vnd.databricks.v1+cell": {
     "cellMetadata": {
      "byteLimit": 2048000,
      "rowLimit": 10000
     },
     "inputWidgets": {},
     "nuid": "a43fc738-b26d-4ab4-8a7d-18dee7b9dda5",
     "showTitle": false,
     "tableResultSettingsMap": {},
     "title": ""
    }
   },
   "outputs": [
    {
     "output_type": "stream",
     "name": "stdout",
     "output_type": "stream",
     "text": [
      "Contagem por UF:\n+---+-------+\n|uf |count  |\n+---+-------+\n|BA |1012499|\n|MG |989446 |\n|RS |606454 |\n|PR |496164 |\n|SP |408528 |\n|SC |374918 |\n|PE |339371 |\n|CE |314866 |\n|PA |279598 |\n|MA |273642 |\n|PI |255052 |\n|GO |199690 |\n|PB |170851 |\n|MT |170205 |\n|RO |147287 |\n|AL |114610 |\n|ES |108849 |\n|SE |94418  |\n|RN |89357  |\n|TO |85537  |\n+---+-------+\nonly showing top 20 rows\n\nContagem por Município:\n+------------------+-----+\n|municipio         |count|\n+------------------+-----+\n|Monte Santo       |19220|\n|Brasília          |17339|\n|Porto Velho       |16906|\n|Canguçu           |13503|\n|Araripina         |12183|\n|Pilão Arcado      |11928|\n|Euclides da Cunha |11361|\n|Ouricuri          |11324|\n|Brumado           |11019|\n|Montes Claros     |10724|\n|Tucano            |10256|\n|Teresina          |10025|\n|Jeremoabo         |9974 |\n|Rio Pardo de Minas|9619 |\n|Araci             |9489 |\n|Prudentópolis     |9470 |\n|Campo Formoso     |9445 |\n|Macaúbas          |9350 |\n|São Félix do Xingu|9321 |\n|Januária          |9265 |\n+------------------+-----+\nonly showing top 20 rows\n\n"
     ]
    }
   ],
   "source": [
    "# Contagem individual de registros por UF\n",
    "df_count_by_uf = df_bronze.groupBy(\"uf\").count()\n",
    "\n",
    "# Contagem individual de registros por Municipio\n",
    "df_count_by_municipio = df_bronze.groupBy(\"municipio\").count()\n",
    "\n",
    "# Exibir resultados\n",
    "print(\"Contagem por UF:\")\n",
    "df_count_by_uf.orderBy(\"count\", ascending=False).show(truncate=False)\n",
    "\n",
    "print(\"Contagem por Município:\")\n",
    "df_count_by_municipio.orderBy(\"count\", ascending=False).show(truncate=False)"
   ]
  },
  {
   "cell_type": "code",
   "execution_count": 0,
   "metadata": {
    "application/vnd.databricks.v1+cell": {
     "cellMetadata": {
      "byteLimit": 2048000,
      "rowLimit": 10000
     },
     "inputWidgets": {},
     "nuid": "c7436d9c-9e38-4413-b423-4a4c33474e5c",
     "showTitle": false,
     "tableResultSettingsMap": {},
     "title": ""
    }
   },
   "outputs": [],
   "source": [
    "# Caminho da camada Gold\n",
    "gold_path = \"/FileStore/tables/cadastro_ambiental/gold_temas_ambientais\"\n",
    "\n",
    "# Salvar os dados na Camada Gold particionados por UF\n",
    "df.write.format(\"delta\") \\\n",
    "    .mode(\"overwrite\") \\\n",
    "    .option(\"overwriteSchema\", \"true\") \\\n",
    "    .partitionBy(\"uf\") \\\n",
    "    .save(gold_path)"
   ]
  },
  {
   "cell_type": "code",
   "execution_count": 0,
   "metadata": {
    "application/vnd.databricks.v1+cell": {
     "cellMetadata": {
      "byteLimit": 2048000,
      "rowLimit": 10000
     },
     "inputWidgets": {},
     "nuid": "86d3e128-4c2b-4ad2-8a56-74b2cf847e84",
     "showTitle": false,
     "tableResultSettingsMap": {},
     "title": ""
    }
   },
   "outputs": [
    {
     "output_type": "display_data",
     "data": {
      "text/html": [
       "<style scoped>\n",
       "  .table-result-container {\n",
       "    max-height: 300px;\n",
       "    overflow: auto;\n",
       "  }\n",
       "  table, th, td {\n",
       "    border: 1px solid black;\n",
       "    border-collapse: collapse;\n",
       "  }\n",
       "  th, td {\n",
       "    padding: 5px;\n",
       "  }\n",
       "  th {\n",
       "    text-align: left;\n",
       "  }\n",
       "</style><div class='table-result-container'><table class='table-result'><thead style='background-color: white'><tr><th>uf</th><th>municipio</th><th>codigo_ibge</th><th>area_do_imovel</th><th>registro_car</th><th>situacao_cadastro</th><th>condicao_cadastro</th><th>area_liquida</th><th>area_remanescente_vegetacao_nativa</th><th>area_reserva_legal_proposta</th><th>area_preservacao_permanente</th><th>area_nao_classificada</th><th>solicitacao_adesao_pra</th><th>latitude</th><th>longitude</th><th>data_inscricao</th><th>data_alteracao_condicao_cadastro</th><th>area_rural_consolidada</th><th>area_servidao_administrativa</th><th>tipo_imovel_rural</th><th>modulos_fiscais</th><th>area_uso_restrito</th><th>area_reserva_legal_averbada</th><th>area_reserva_legal_aprovada_nao_averbada</th><th>area_pousio</th><th>data_ultima_retificacao</th></tr></thead><tbody><tr><td>AC</td><td>Xapuri</td><td>1200708</td><td>935.0576</td><td>AC-1200708-19C3C6A0A7B6488096185809637AC4AF</td><td>PE</td><td>Analisado com pendências, aguardando retificação e/ou apresentação de documentos</td><td>934.4761</td><td>0.0</td><td>0.0</td><td>61.488719378311</td><td>6.52856406392798</td><td>Sim</td><td>-10.7142027389389</td><td>-68.2084015961516</td><td>2014-05-30T21:05:38.957Z</td><td>2022-01-06T19:50:28.955Z</td><td>891.99866751478</td><td>0.0</td><td>IRU</td><td>9.3506</td><td>0.0</td><td>0.0</td><td>0.0</td><td>0.0</td><td>2014-05-30T21:05:38.957Z</td></tr><tr><td>AC</td><td>Capixaba</td><td>1200179</td><td>295.308</td><td>AC-1200179-CF396FF9F78E4A0E8CCA9CF80716144A</td><td>AT</td><td>Analisado com pendências, aguardando apresentação de documentos</td><td>295.1906</td><td>23.6549331578795</td><td>0.0</td><td>0.0</td><td>0.205561556893404</td><td>Sim</td><td>-10.5652398887943</td><td>-67.8238254166808</td><td>2014-05-30T21:05:39.074Z</td><td>null</td><td>271.447441579244</td><td>0.0</td><td>IRU</td><td>4.2187</td><td>0.0</td><td>0.0</td><td>0.0</td><td>0.0</td><td>2014-05-30T21:05:39.074Z</td></tr><tr><td>AC</td><td>Bujari</td><td>1200138</td><td>2.9585</td><td>AC-1200138-218DCFB19D064EF38E435A4281FCEBB4</td><td>AT</td><td>Aguardando análise, não passível de revisão de dados</td><td>2.9585</td><td>0.92996846870482</td><td>0.0</td><td>0.0</td><td>0.0549187275759037</td><td>Sim</td><td>-9.74302633370553</td><td>-68.0912357095767</td><td>2014-05-30T21:05:39.141Z</td><td>null</td><td>1.97361999899</td><td>0.0</td><td>IRU</td><td>0.0423</td><td>0.0</td><td>0.0</td><td>0.0</td><td>0.0</td><td>2014-05-30T21:05:39.141Z</td></tr><tr><td>AC</td><td>Sena Madureira</td><td>1200500</td><td>4528.6282</td><td>AC-1200500-FB62BF39455A442591A7D60DBCFA800C</td><td>AT</td><td>Analisado com pendências, aguardando apresentação de documentos</td><td>4525.0442</td><td>4315.24535000182</td><td>3621.8188</td><td>85.2533067661144</td><td>0.0164362580727577</td><td>Sim</td><td>-9.85635101020226</td><td>-68.8012355599982</td><td>2014-05-30T21:05:39.368Z</td><td>null</td><td>198.873999505585</td><td>0.0</td><td>IRU</td><td>45.2863</td><td>0.0</td><td>0.0</td><td>0.0</td><td>0.0</td><td>2014-05-30T21:05:39.368Z</td></tr><tr><td>AC</td><td>Rio Branco</td><td>1200401</td><td>8298.6541</td><td>AC-1200401-69A98AA176E24BC8990CEFB9417A8A4A</td><td>PE</td><td>Analisado com pendências, aguardando retificação e/ou apresentação de documentos</td><td>8244.4361</td><td>5324.53362373621</td><td>5306.5103</td><td>99.9105088240575</td><td>0.0281518691906137</td><td>Sim</td><td>-9.87951925357666</td><td>-68.6313721346212</td><td>2014-05-30T21:05:39.681Z</td><td>null</td><td>2909.13662900035</td><td>47.4914</td><td>IRU</td><td>118.5522</td><td>0.0</td><td>0.0</td><td>0.0</td><td>0.0</td><td>2014-05-30T21:05:39.681Z</td></tr></tbody></table></div>"
      ]
     },
     "metadata": {
      "application/vnd.databricks.v1+output": {
       "addedWidgets": {},
       "aggData": [],
       "aggError": "",
       "aggOverflow": false,
       "aggSchema": [],
       "aggSeriesLimitReached": false,
       "aggType": "",
       "arguments": {},
       "columnCustomDisplayInfos": {},
       "data": [
        [
         "AC",
         "Xapuri",
         1200708,
         935.0576,
         "AC-1200708-19C3C6A0A7B6488096185809637AC4AF",
         "PE",
         "Analisado com pendências, aguardando retificação e/ou apresentação de documentos",
         934.4761,
         0.0,
         0.0,
         61.488719378311,
         6.52856406392798,
         "Sim",
         -10.7142027389389,
         -68.2084015961516,
         "2014-05-30T21:05:38.957Z",
         "2022-01-06T19:50:28.955Z",
         891.99866751478,
         0.0,
         "IRU",
         9.3506,
         0.0,
         0.0,
         0.0,
         0.0,
         "2014-05-30T21:05:38.957Z"
        ],
        [
         "AC",
         "Capixaba",
         1200179,
         295.308,
         "AC-1200179-CF396FF9F78E4A0E8CCA9CF80716144A",
         "AT",
         "Analisado com pendências, aguardando apresentação de documentos",
         295.1906,
         23.6549331578795,
         0.0,
         0.0,
         0.205561556893404,
         "Sim",
         -10.5652398887943,
         -67.8238254166808,
         "2014-05-30T21:05:39.074Z",
         null,
         271.447441579244,
         0.0,
         "IRU",
         4.2187,
         0.0,
         0.0,
         0.0,
         0.0,
         "2014-05-30T21:05:39.074Z"
        ],
        [
         "AC",
         "Bujari",
         1200138,
         2.9585,
         "AC-1200138-218DCFB19D064EF38E435A4281FCEBB4",
         "AT",
         "Aguardando análise, não passível de revisão de dados",
         2.9585,
         0.92996846870482,
         0.0,
         0.0,
         0.0549187275759037,
         "Sim",
         -9.74302633370553,
         -68.0912357095767,
         "2014-05-30T21:05:39.141Z",
         null,
         1.97361999899,
         0.0,
         "IRU",
         0.0423,
         0.0,
         0.0,
         0.0,
         0.0,
         "2014-05-30T21:05:39.141Z"
        ],
        [
         "AC",
         "Sena Madureira",
         1200500,
         4528.6282,
         "AC-1200500-FB62BF39455A442591A7D60DBCFA800C",
         "AT",
         "Analisado com pendências, aguardando apresentação de documentos",
         4525.0442,
         4315.24535000182,
         3621.8188,
         85.2533067661144,
         0.0164362580727577,
         "Sim",
         -9.85635101020226,
         -68.8012355599982,
         "2014-05-30T21:05:39.368Z",
         null,
         198.873999505585,
         0.0,
         "IRU",
         45.2863,
         0.0,
         0.0,
         0.0,
         0.0,
         "2014-05-30T21:05:39.368Z"
        ],
        [
         "AC",
         "Rio Branco",
         1200401,
         8298.6541,
         "AC-1200401-69A98AA176E24BC8990CEFB9417A8A4A",
         "PE",
         "Analisado com pendências, aguardando retificação e/ou apresentação de documentos",
         8244.4361,
         5324.53362373621,
         5306.5103,
         99.9105088240575,
         0.0281518691906137,
         "Sim",
         -9.87951925357666,
         -68.6313721346212,
         "2014-05-30T21:05:39.681Z",
         null,
         2909.13662900035,
         47.4914,
         "IRU",
         118.5522,
         0.0,
         0.0,
         0.0,
         0.0,
         "2014-05-30T21:05:39.681Z"
        ]
       ],
       "datasetInfos": [],
       "dbfsResultPath": null,
       "isJsonSchema": true,
       "metadata": {},
       "overflow": false,
       "plotOptions": {
        "customPlotOptions": {},
        "displayType": "table",
        "pivotAggregation": null,
        "pivotColumns": null,
        "xColumns": null,
        "yColumns": null
       },
       "removedWidgets": [],
       "schema": [
        {
         "metadata": "{}",
         "name": "uf",
         "type": "\"string\""
        },
        {
         "metadata": "{}",
         "name": "municipio",
         "type": "\"string\""
        },
        {
         "metadata": "{}",
         "name": "codigo_ibge",
         "type": "\"integer\""
        },
        {
         "metadata": "{}",
         "name": "area_do_imovel",
         "type": "\"double\""
        },
        {
         "metadata": "{}",
         "name": "registro_car",
         "type": "\"string\""
        },
        {
         "metadata": "{}",
         "name": "situacao_cadastro",
         "type": "\"string\""
        },
        {
         "metadata": "{}",
         "name": "condicao_cadastro",
         "type": "\"string\""
        },
        {
         "metadata": "{}",
         "name": "area_liquida",
         "type": "\"double\""
        },
        {
         "metadata": "{}",
         "name": "area_remanescente_vegetacao_nativa",
         "type": "\"double\""
        },
        {
         "metadata": "{}",
         "name": "area_reserva_legal_proposta",
         "type": "\"double\""
        },
        {
         "metadata": "{}",
         "name": "area_preservacao_permanente",
         "type": "\"double\""
        },
        {
         "metadata": "{}",
         "name": "area_nao_classificada",
         "type": "\"double\""
        },
        {
         "metadata": "{}",
         "name": "solicitacao_adesao_pra",
         "type": "\"string\""
        },
        {
         "metadata": "{}",
         "name": "latitude",
         "type": "\"double\""
        },
        {
         "metadata": "{}",
         "name": "longitude",
         "type": "\"double\""
        },
        {
         "metadata": "{}",
         "name": "data_inscricao",
         "type": "\"timestamp\""
        },
        {
         "metadata": "{}",
         "name": "data_alteracao_condicao_cadastro",
         "type": "\"timestamp\""
        },
        {
         "metadata": "{}",
         "name": "area_rural_consolidada",
         "type": "\"double\""
        },
        {
         "metadata": "{}",
         "name": "area_servidao_administrativa",
         "type": "\"double\""
        },
        {
         "metadata": "{}",
         "name": "tipo_imovel_rural",
         "type": "\"string\""
        },
        {
         "metadata": "{}",
         "name": "modulos_fiscais",
         "type": "\"double\""
        },
        {
         "metadata": "{}",
         "name": "area_uso_restrito",
         "type": "\"double\""
        },
        {
         "metadata": "{}",
         "name": "area_reserva_legal_averbada",
         "type": "\"double\""
        },
        {
         "metadata": "{}",
         "name": "area_reserva_legal_aprovada_nao_averbada",
         "type": "\"double\""
        },
        {
         "metadata": "{}",
         "name": "area_pousio",
         "type": "\"double\""
        },
        {
         "metadata": "{}",
         "name": "data_ultima_retificacao",
         "type": "\"timestamp\""
        }
       ],
       "type": "table"
      }
     },
     "output_type": "display_data"
    }
   ],
   "source": [
    "# Carregar os dados particionados da Camada Gold\n",
    "df_gold = spark.read.format(\"delta\").load(gold_path)\n",
    "\n",
    "# Exibir os dados carregados\n",
    "df_gold.limit(5).display()"
   ]
  },
  {
   "cell_type": "code",
   "execution_count": 0,
   "metadata": {
    "application/vnd.databricks.v1+cell": {
     "cellMetadata": {
      "byteLimit": 2048000,
      "rowLimit": 10000
     },
     "inputWidgets": {},
     "nuid": "4ddd7e38-614b-42dc-bb18-322d6044ab88",
     "showTitle": false,
     "tableResultSettingsMap": {},
     "title": ""
    }
   },
   "outputs": [],
   "source": [
    "# Realizar a agregação por UF na camada Gold\n",
    "df_gold_aggregated = df_gold.groupBy(\"uf\") \\\n",
    "    .agg(\n",
    "        F.sum(\"area_do_imovel\").alias(\"total_area_imovel\"),\n",
    "        F.sum(\"area_liquida\").alias(\"total_area_liquida\"),\n",
    "        F.count(\"*\").alias(\"total_registros\")\n",
    "    )"
   ]
  },
  {
   "cell_type": "code",
   "execution_count": 0,
   "metadata": {
    "application/vnd.databricks.v1+cell": {
     "cellMetadata": {
      "byteLimit": 2048000,
      "rowLimit": 10000
     },
     "inputWidgets": {},
     "nuid": "5731bfc5-6d87-49a4-acd0-35892e85b290",
     "showTitle": false,
     "tableResultSettingsMap": {},
     "title": ""
    }
   },
   "outputs": [
    {
     "output_type": "display_data",
     "data": {
      "text/html": [
       "<style scoped>\n",
       "  .table-result-container {\n",
       "    max-height: 300px;\n",
       "    overflow: auto;\n",
       "  }\n",
       "  table, th, td {\n",
       "    border: 1px solid black;\n",
       "    border-collapse: collapse;\n",
       "  }\n",
       "  th, td {\n",
       "    padding: 5px;\n",
       "  }\n",
       "  th {\n",
       "    text-align: left;\n",
       "  }\n",
       "</style><div class='table-result-container'><table class='table-result'><thead style='background-color: white'><tr><th>uf</th><th>total_area_imovel</th><th>total_area_liquida</th><th>total_registros</th></tr></thead><tbody><tr><td>MG</td><td>5.4337736262100935E7</td><td>5.296282176140109E7</td><td>989446</td></tr><tr><td>BA</td><td>3.576177102590188E7</td><td>3.489551777910152E7</td><td>1012499</td></tr><tr><td>RS</td><td>2.3677584359099682E7</td><td>2.341407737939912E7</td><td>606454</td></tr><tr><td>PR</td><td>1.8899704235899527E7</td><td>1.8640516105399292E7</td><td>496164</td></tr><tr><td>SC</td><td>8254598.620099617</td><td>8136270.711699749</td><td>374918</td></tr><tr><td>SP</td><td>2.3335330627499703E7</td><td>2.221957907379932E7</td><td>408528</td></tr><tr><td>PE</td><td>7334876.880099971</td><td>7205341.76689996</td><td>339371</td></tr><tr><td>CE</td><td>1.1065764441099936E7</td><td>1.0755713251900053E7</td><td>314866</td></tr><tr><td>PI</td><td>2.0116996145900246E7</td><td>1.9793940273700487E7</td><td>255052</td></tr><tr><td>PA</td><td>8.213900892529853E7</td><td>7.454478326700152E7</td><td>279598</td></tr><tr><td>MA</td><td>3.0812014344599534E7</td><td>3.0206011741499685E7</td><td>273642</td></tr><tr><td>RO</td><td>1.5945423411999887E7</td><td>1.5493566317799805E7</td><td>147287</td></tr><tr><td>GO</td><td>3.2905239064499684E7</td><td>3.2705145238999713E7</td><td>199690</td></tr><tr><td>MT</td><td>8.458708926979955E7</td><td>8.181696144360092E7</td><td>170205</td></tr><tr><td>PB</td><td>4232141.847700029</td><td>4190547.39550001</td><td>170851</td></tr><tr><td>AM</td><td>7.1356840559E7</td><td>7.159042214410031E7</td><td>73642</td></tr><tr><td>TO</td><td>2.511502268299945E7</td><td>2.1117027103299625E7</td><td>85537</td></tr><tr><td>ES</td><td>3681843.3953000344</td><td>3650207.9801998395</td><td>108849</td></tr><tr><td>MS</td><td>3.632188266120003E7</td><td>3.391096490619995E7</td><td>79914</td></tr><tr><td>AL</td><td>2203627.532900001</td><td>2167505.6166999983</td><td>114610</td></tr><tr><td>SE</td><td>1825481.2499000132</td><td>1807085.3594000048</td><td>94418</td></tr><tr><td>RN</td><td>4041342.9145</td><td>3970404.8522000215</td><td>89357</td></tr><tr><td>RJ</td><td>2904531.991900011</td><td>2859994.4493000126</td><td>58923</td></tr><tr><td>RR</td><td>8857267.900799984</td><td>8784294.609099993</td><td>22687</td></tr><tr><td>AC</td><td>1.3853016126099886E7</td><td>1.3790824381199896E7</td><td>45141</td></tr><tr><td>DF</td><td>821455.1261999991</td><td>805012.0677999983</td><td>17339</td></tr><tr><td>AP</td><td>5178584.377399985</td><td>5150909.701999978</td><td>10116</td></tr></tbody></table></div>"
      ]
     },
     "metadata": {
      "application/vnd.databricks.v1+output": {
       "addedWidgets": {},
       "aggData": [],
       "aggError": "",
       "aggOverflow": false,
       "aggSchema": [],
       "aggSeriesLimitReached": false,
       "aggType": "",
       "arguments": {},
       "columnCustomDisplayInfos": {},
       "data": [
        [
         "MG",
         5.4337736262100935E7,
         5.296282176140109E7,
         989446
        ],
        [
         "BA",
         3.576177102590188E7,
         3.489551777910152E7,
         1012499
        ],
        [
         "RS",
         2.3677584359099682E7,
         2.341407737939912E7,
         606454
        ],
        [
         "PR",
         1.8899704235899527E7,
         1.8640516105399292E7,
         496164
        ],
        [
         "SC",
         8254598.620099617,
         8136270.711699749,
         374918
        ],
        [
         "SP",
         2.3335330627499703E7,
         2.221957907379932E7,
         408528
        ],
        [
         "PE",
         7334876.880099971,
         7205341.76689996,
         339371
        ],
        [
         "CE",
         1.1065764441099936E7,
         1.0755713251900053E7,
         314866
        ],
        [
         "PI",
         2.0116996145900246E7,
         1.9793940273700487E7,
         255052
        ],
        [
         "PA",
         8.213900892529853E7,
         7.454478326700152E7,
         279598
        ],
        [
         "MA",
         3.0812014344599534E7,
         3.0206011741499685E7,
         273642
        ],
        [
         "RO",
         1.5945423411999887E7,
         1.5493566317799805E7,
         147287
        ],
        [
         "GO",
         3.2905239064499684E7,
         3.2705145238999713E7,
         199690
        ],
        [
         "MT",
         8.458708926979955E7,
         8.181696144360092E7,
         170205
        ],
        [
         "PB",
         4232141.847700029,
         4190547.39550001,
         170851
        ],
        [
         "AM",
         7.1356840559E7,
         7.159042214410031E7,
         73642
        ],
        [
         "TO",
         2.511502268299945E7,
         2.1117027103299625E7,
         85537
        ],
        [
         "ES",
         3681843.3953000344,
         3650207.9801998395,
         108849
        ],
        [
         "MS",
         3.632188266120003E7,
         3.391096490619995E7,
         79914
        ],
        [
         "AL",
         2203627.532900001,
         2167505.6166999983,
         114610
        ],
        [
         "SE",
         1825481.2499000132,
         1807085.3594000048,
         94418
        ],
        [
         "RN",
         4041342.9145,
         3970404.8522000215,
         89357
        ],
        [
         "RJ",
         2904531.991900011,
         2859994.4493000126,
         58923
        ],
        [
         "RR",
         8857267.900799984,
         8784294.609099993,
         22687
        ],
        [
         "AC",
         1.3853016126099886E7,
         1.3790824381199896E7,
         45141
        ],
        [
         "DF",
         821455.1261999991,
         805012.0677999983,
         17339
        ],
        [
         "AP",
         5178584.377399985,
         5150909.701999978,
         10116
        ]
       ],
       "datasetInfos": [],
       "dbfsResultPath": null,
       "isJsonSchema": true,
       "metadata": {},
       "overflow": false,
       "plotOptions": {
        "customPlotOptions": {},
        "displayType": "table",
        "pivotAggregation": null,
        "pivotColumns": null,
        "xColumns": null,
        "yColumns": null
       },
       "removedWidgets": [],
       "schema": [
        {
         "metadata": "{}",
         "name": "uf",
         "type": "\"string\""
        },
        {
         "metadata": "{}",
         "name": "total_area_imovel",
         "type": "\"double\""
        },
        {
         "metadata": "{}",
         "name": "total_area_liquida",
         "type": "\"double\""
        },
        {
         "metadata": "{}",
         "name": "total_registros",
         "type": "\"long\""
        }
       ],
       "type": "table"
      }
     },
     "output_type": "display_data"
    }
   ],
   "source": [
    "df_gold_aggregated.display()"
   ]
  },
  {
   "cell_type": "code",
   "execution_count": 0,
   "metadata": {
    "application/vnd.databricks.v1+cell": {
     "cellMetadata": {
      "byteLimit": 2048000,
      "rowLimit": 10000
     },
     "inputWidgets": {},
     "nuid": "aec3c12c-2fa3-447d-9d91-4156f484fbc6",
     "showTitle": false,
     "tableResultSettingsMap": {},
     "title": ""
    }
   },
   "outputs": [
    {
     "output_type": "display_data",
     "data": {
      "text/html": [
       "<style scoped>\n",
       "  .table-result-container {\n",
       "    max-height: 300px;\n",
       "    overflow: auto;\n",
       "  }\n",
       "  table, th, td {\n",
       "    border: 1px solid black;\n",
       "    border-collapse: collapse;\n",
       "  }\n",
       "  th, td {\n",
       "    padding: 5px;\n",
       "  }\n",
       "  th {\n",
       "    text-align: left;\n",
       "  }\n",
       "</style><div class='table-result-container'><table class='table-result'><thead style='background-color: white'><tr><th>uf</th><th>municipio</th><th>codigo_ibge</th><th>area_do_imovel</th><th>registro_car</th><th>situacao_cadastro</th><th>condicao_cadastro</th><th>area_liquida</th><th>area_remanescente_vegetacao_nativa</th><th>area_reserva_legal_proposta</th><th>area_preservacao_permanente</th><th>area_nao_classificada</th><th>solicitacao_adesao_pra</th><th>latitude</th><th>longitude</th><th>data_inscricao</th><th>data_alteracao_condicao_cadastro</th><th>area_rural_consolidada</th><th>area_servidao_administrativa</th><th>tipo_imovel_rural</th><th>modulos_fiscais</th><th>area_uso_restrito</th><th>area_reserva_legal_averbada</th><th>area_reserva_legal_aprovada_nao_averbada</th><th>area_pousio</th><th>data_ultima_retificacao</th></tr></thead><tbody><tr><td>AC</td><td>Xapuri</td><td>1200708</td><td>935.0576</td><td>AC-1200708-19C3C6A0A7B6488096185809637AC4AF</td><td>PE</td><td>Analisado com pendências, aguardando retificação e/ou apresentação de documentos</td><td>934.4761</td><td>0.0</td><td>0.0</td><td>61.488719378311</td><td>6.52856406392798</td><td>Sim</td><td>-10.7142027389389</td><td>-68.2084015961516</td><td>2014-05-30T21:05:38.957Z</td><td>2022-01-06T19:50:28.955Z</td><td>891.99866751478</td><td>0.0</td><td>IRU</td><td>9.3506</td><td>0.0</td><td>0.0</td><td>0.0</td><td>0.0</td><td>2014-05-30T21:05:38.957Z</td></tr><tr><td>AC</td><td>Capixaba</td><td>1200179</td><td>295.308</td><td>AC-1200179-CF396FF9F78E4A0E8CCA9CF80716144A</td><td>AT</td><td>Analisado com pendências, aguardando apresentação de documentos</td><td>295.1906</td><td>23.6549331578795</td><td>0.0</td><td>0.0</td><td>0.205561556893404</td><td>Sim</td><td>-10.5652398887943</td><td>-67.8238254166808</td><td>2014-05-30T21:05:39.074Z</td><td>null</td><td>271.447441579244</td><td>0.0</td><td>IRU</td><td>4.2187</td><td>0.0</td><td>0.0</td><td>0.0</td><td>0.0</td><td>2014-05-30T21:05:39.074Z</td></tr><tr><td>AC</td><td>Bujari</td><td>1200138</td><td>2.9585</td><td>AC-1200138-218DCFB19D064EF38E435A4281FCEBB4</td><td>AT</td><td>Aguardando análise, não passível de revisão de dados</td><td>2.9585</td><td>0.92996846870482</td><td>0.0</td><td>0.0</td><td>0.0549187275759037</td><td>Sim</td><td>-9.74302633370553</td><td>-68.0912357095767</td><td>2014-05-30T21:05:39.141Z</td><td>null</td><td>1.97361999899</td><td>0.0</td><td>IRU</td><td>0.0423</td><td>0.0</td><td>0.0</td><td>0.0</td><td>0.0</td><td>2014-05-30T21:05:39.141Z</td></tr><tr><td>AC</td><td>Sena Madureira</td><td>1200500</td><td>4528.6282</td><td>AC-1200500-FB62BF39455A442591A7D60DBCFA800C</td><td>AT</td><td>Analisado com pendências, aguardando apresentação de documentos</td><td>4525.0442</td><td>4315.24535000182</td><td>3621.8188</td><td>85.2533067661144</td><td>0.0164362580727577</td><td>Sim</td><td>-9.85635101020226</td><td>-68.8012355599982</td><td>2014-05-30T21:05:39.368Z</td><td>null</td><td>198.873999505585</td><td>0.0</td><td>IRU</td><td>45.2863</td><td>0.0</td><td>0.0</td><td>0.0</td><td>0.0</td><td>2014-05-30T21:05:39.368Z</td></tr><tr><td>AC</td><td>Rio Branco</td><td>1200401</td><td>8298.6541</td><td>AC-1200401-69A98AA176E24BC8990CEFB9417A8A4A</td><td>PE</td><td>Analisado com pendências, aguardando retificação e/ou apresentação de documentos</td><td>8244.4361</td><td>5324.53362373621</td><td>5306.5103</td><td>99.9105088240575</td><td>0.0281518691906137</td><td>Sim</td><td>-9.87951925357666</td><td>-68.6313721346212</td><td>2014-05-30T21:05:39.681Z</td><td>null</td><td>2909.13662900035</td><td>47.4914</td><td>IRU</td><td>118.5522</td><td>0.0</td><td>0.0</td><td>0.0</td><td>0.0</td><td>2014-05-30T21:05:39.681Z</td></tr></tbody></table></div>"
      ]
     },
     "metadata": {
      "application/vnd.databricks.v1+output": {
       "addedWidgets": {},
       "aggData": [],
       "aggError": "",
       "aggOverflow": false,
       "aggSchema": [],
       "aggSeriesLimitReached": false,
       "aggType": "",
       "arguments": {},
       "columnCustomDisplayInfos": {},
       "data": [
        [
         "AC",
         "Xapuri",
         1200708,
         935.0576,
         "AC-1200708-19C3C6A0A7B6488096185809637AC4AF",
         "PE",
         "Analisado com pendências, aguardando retificação e/ou apresentação de documentos",
         934.4761,
         0.0,
         0.0,
         61.488719378311,
         6.52856406392798,
         "Sim",
         -10.7142027389389,
         -68.2084015961516,
         "2014-05-30T21:05:38.957Z",
         "2022-01-06T19:50:28.955Z",
         891.99866751478,
         0.0,
         "IRU",
         9.3506,
         0.0,
         0.0,
         0.0,
         0.0,
         "2014-05-30T21:05:38.957Z"
        ],
        [
         "AC",
         "Capixaba",
         1200179,
         295.308,
         "AC-1200179-CF396FF9F78E4A0E8CCA9CF80716144A",
         "AT",
         "Analisado com pendências, aguardando apresentação de documentos",
         295.1906,
         23.6549331578795,
         0.0,
         0.0,
         0.205561556893404,
         "Sim",
         -10.5652398887943,
         -67.8238254166808,
         "2014-05-30T21:05:39.074Z",
         null,
         271.447441579244,
         0.0,
         "IRU",
         4.2187,
         0.0,
         0.0,
         0.0,
         0.0,
         "2014-05-30T21:05:39.074Z"
        ],
        [
         "AC",
         "Bujari",
         1200138,
         2.9585,
         "AC-1200138-218DCFB19D064EF38E435A4281FCEBB4",
         "AT",
         "Aguardando análise, não passível de revisão de dados",
         2.9585,
         0.92996846870482,
         0.0,
         0.0,
         0.0549187275759037,
         "Sim",
         -9.74302633370553,
         -68.0912357095767,
         "2014-05-30T21:05:39.141Z",
         null,
         1.97361999899,
         0.0,
         "IRU",
         0.0423,
         0.0,
         0.0,
         0.0,
         0.0,
         "2014-05-30T21:05:39.141Z"
        ],
        [
         "AC",
         "Sena Madureira",
         1200500,
         4528.6282,
         "AC-1200500-FB62BF39455A442591A7D60DBCFA800C",
         "AT",
         "Analisado com pendências, aguardando apresentação de documentos",
         4525.0442,
         4315.24535000182,
         3621.8188,
         85.2533067661144,
         0.0164362580727577,
         "Sim",
         -9.85635101020226,
         -68.8012355599982,
         "2014-05-30T21:05:39.368Z",
         null,
         198.873999505585,
         0.0,
         "IRU",
         45.2863,
         0.0,
         0.0,
         0.0,
         0.0,
         "2014-05-30T21:05:39.368Z"
        ],
        [
         "AC",
         "Rio Branco",
         1200401,
         8298.6541,
         "AC-1200401-69A98AA176E24BC8990CEFB9417A8A4A",
         "PE",
         "Analisado com pendências, aguardando retificação e/ou apresentação de documentos",
         8244.4361,
         5324.53362373621,
         5306.5103,
         99.9105088240575,
         0.0281518691906137,
         "Sim",
         -9.87951925357666,
         -68.6313721346212,
         "2014-05-30T21:05:39.681Z",
         null,
         2909.13662900035,
         47.4914,
         "IRU",
         118.5522,
         0.0,
         0.0,
         0.0,
         0.0,
         "2014-05-30T21:05:39.681Z"
        ]
       ],
       "datasetInfos": [],
       "dbfsResultPath": null,
       "isJsonSchema": true,
       "metadata": {},
       "overflow": false,
       "plotOptions": {
        "customPlotOptions": {},
        "displayType": "table",
        "pivotAggregation": null,
        "pivotColumns": null,
        "xColumns": null,
        "yColumns": null
       },
       "removedWidgets": [],
       "schema": [
        {
         "metadata": "{}",
         "name": "uf",
         "type": "\"string\""
        },
        {
         "metadata": "{}",
         "name": "municipio",
         "type": "\"string\""
        },
        {
         "metadata": "{}",
         "name": "codigo_ibge",
         "type": "\"integer\""
        },
        {
         "metadata": "{}",
         "name": "area_do_imovel",
         "type": "\"double\""
        },
        {
         "metadata": "{}",
         "name": "registro_car",
         "type": "\"string\""
        },
        {
         "metadata": "{}",
         "name": "situacao_cadastro",
         "type": "\"string\""
        },
        {
         "metadata": "{}",
         "name": "condicao_cadastro",
         "type": "\"string\""
        },
        {
         "metadata": "{}",
         "name": "area_liquida",
         "type": "\"double\""
        },
        {
         "metadata": "{}",
         "name": "area_remanescente_vegetacao_nativa",
         "type": "\"double\""
        },
        {
         "metadata": "{}",
         "name": "area_reserva_legal_proposta",
         "type": "\"double\""
        },
        {
         "metadata": "{}",
         "name": "area_preservacao_permanente",
         "type": "\"double\""
        },
        {
         "metadata": "{}",
         "name": "area_nao_classificada",
         "type": "\"double\""
        },
        {
         "metadata": "{}",
         "name": "solicitacao_adesao_pra",
         "type": "\"string\""
        },
        {
         "metadata": "{}",
         "name": "latitude",
         "type": "\"double\""
        },
        {
         "metadata": "{}",
         "name": "longitude",
         "type": "\"double\""
        },
        {
         "metadata": "{}",
         "name": "data_inscricao",
         "type": "\"timestamp\""
        },
        {
         "metadata": "{}",
         "name": "data_alteracao_condicao_cadastro",
         "type": "\"timestamp\""
        },
        {
         "metadata": "{}",
         "name": "area_rural_consolidada",
         "type": "\"double\""
        },
        {
         "metadata": "{}",
         "name": "area_servidao_administrativa",
         "type": "\"double\""
        },
        {
         "metadata": "{}",
         "name": "tipo_imovel_rural",
         "type": "\"string\""
        },
        {
         "metadata": "{}",
         "name": "modulos_fiscais",
         "type": "\"double\""
        },
        {
         "metadata": "{}",
         "name": "area_uso_restrito",
         "type": "\"double\""
        },
        {
         "metadata": "{}",
         "name": "area_reserva_legal_averbada",
         "type": "\"double\""
        },
        {
         "metadata": "{}",
         "name": "area_reserva_legal_aprovada_nao_averbada",
         "type": "\"double\""
        },
        {
         "metadata": "{}",
         "name": "area_pousio",
         "type": "\"double\""
        },
        {
         "metadata": "{}",
         "name": "data_ultima_retificacao",
         "type": "\"timestamp\""
        }
       ],
       "type": "table"
      }
     },
     "output_type": "display_data"
    }
   ],
   "source": [
    "# Validar os dados da Camada Gold\n",
    "df_gold = spark.read.format(\"delta\").load(gold_path)\n",
    "df_gold.limit(5).display()"
   ]
  },
  {
   "cell_type": "code",
   "execution_count": 0,
   "metadata": {
    "application/vnd.databricks.v1+cell": {
     "cellMetadata": {
      "byteLimit": 2048000,
      "rowLimit": 10000
     },
     "inputWidgets": {},
     "nuid": "8863c45f-8294-4618-8350-2e6aaab832fa",
     "showTitle": false,
     "tableResultSettingsMap": {},
     "title": ""
    }
   },
   "outputs": [
    {
     "output_type": "execute_result",
     "data": {
      "text/plain": [
       "DataFrame[]"
      ]
     },
     "execution_count": 24,
     "metadata": {},
     "output_type": "execute_result"
    }
   ],
   "source": [
    "spark.sql(f\"\"\"\n",
    "    CREATE TABLE gold_temas_ambientais\n",
    "    USING DELTA\n",
    "    LOCATION '{gold_path}'\n",
    "\"\"\")"
   ]
  },
  {
   "cell_type": "code",
   "execution_count": 0,
   "metadata": {
    "application/vnd.databricks.v1+cell": {
     "cellMetadata": {
      "byteLimit": 2048000,
      "rowLimit": 10000
     },
     "inputWidgets": {},
     "nuid": "4d6db435-6028-4846-ab12-71dac3f19b3d",
     "showTitle": false,
     "tableResultSettingsMap": {},
     "title": ""
    }
   },
   "outputs": [
    {
     "output_type": "display_data",
     "data": {
      "text/html": [
       "<style scoped>\n",
       "  .table-result-container {\n",
       "    max-height: 300px;\n",
       "    overflow: auto;\n",
       "  }\n",
       "  table, th, td {\n",
       "    border: 1px solid black;\n",
       "    border-collapse: collapse;\n",
       "  }\n",
       "  th, td {\n",
       "    padding: 5px;\n",
       "  }\n",
       "  th {\n",
       "    text-align: left;\n",
       "  }\n",
       "</style><div class='table-result-container'><table class='table-result'><thead style='background-color: white'><tr><th>uf</th><th>municipio</th><th>codigo_ibge</th><th>area_do_imovel</th><th>registro_car</th><th>situacao_cadastro</th><th>condicao_cadastro</th><th>area_liquida</th><th>area_remanescente_vegetacao_nativa</th><th>area_reserva_legal_proposta</th><th>area_preservacao_permanente</th><th>area_nao_classificada</th><th>solicitacao_adesao_pra</th><th>latitude</th><th>longitude</th><th>data_inscricao</th><th>data_alteracao_condicao_cadastro</th><th>area_rural_consolidada</th><th>area_servidao_administrativa</th><th>tipo_imovel_rural</th><th>modulos_fiscais</th><th>area_uso_restrito</th><th>area_reserva_legal_averbada</th><th>area_reserva_legal_aprovada_nao_averbada</th><th>area_pousio</th><th>data_ultima_retificacao</th></tr></thead><tbody><tr><td>AC</td><td>Xapuri</td><td>1200708</td><td>935.0576</td><td>AC-1200708-19C3C6A0A7B6488096185809637AC4AF</td><td>PE</td><td>Analisado com pendências, aguardando retificação e/ou apresentação de documentos</td><td>934.4761</td><td>0.0</td><td>0.0</td><td>61.488719378311</td><td>6.52856406392798</td><td>Sim</td><td>-10.7142027389389</td><td>-68.2084015961516</td><td>2014-05-30T21:05:38.957Z</td><td>2022-01-06T19:50:28.955Z</td><td>891.99866751478</td><td>0.0</td><td>IRU</td><td>9.3506</td><td>0.0</td><td>0.0</td><td>0.0</td><td>0.0</td><td>2014-05-30T21:05:38.957Z</td></tr><tr><td>AC</td><td>Capixaba</td><td>1200179</td><td>295.308</td><td>AC-1200179-CF396FF9F78E4A0E8CCA9CF80716144A</td><td>AT</td><td>Analisado com pendências, aguardando apresentação de documentos</td><td>295.1906</td><td>23.6549331578795</td><td>0.0</td><td>0.0</td><td>0.205561556893404</td><td>Sim</td><td>-10.5652398887943</td><td>-67.8238254166808</td><td>2014-05-30T21:05:39.074Z</td><td>null</td><td>271.447441579244</td><td>0.0</td><td>IRU</td><td>4.2187</td><td>0.0</td><td>0.0</td><td>0.0</td><td>0.0</td><td>2014-05-30T21:05:39.074Z</td></tr><tr><td>AC</td><td>Bujari</td><td>1200138</td><td>2.9585</td><td>AC-1200138-218DCFB19D064EF38E435A4281FCEBB4</td><td>AT</td><td>Aguardando análise, não passível de revisão de dados</td><td>2.9585</td><td>0.92996846870482</td><td>0.0</td><td>0.0</td><td>0.0549187275759037</td><td>Sim</td><td>-9.74302633370553</td><td>-68.0912357095767</td><td>2014-05-30T21:05:39.141Z</td><td>null</td><td>1.97361999899</td><td>0.0</td><td>IRU</td><td>0.0423</td><td>0.0</td><td>0.0</td><td>0.0</td><td>0.0</td><td>2014-05-30T21:05:39.141Z</td></tr><tr><td>AC</td><td>Sena Madureira</td><td>1200500</td><td>4528.6282</td><td>AC-1200500-FB62BF39455A442591A7D60DBCFA800C</td><td>AT</td><td>Analisado com pendências, aguardando apresentação de documentos</td><td>4525.0442</td><td>4315.24535000182</td><td>3621.8188</td><td>85.2533067661144</td><td>0.0164362580727577</td><td>Sim</td><td>-9.85635101020226</td><td>-68.8012355599982</td><td>2014-05-30T21:05:39.368Z</td><td>null</td><td>198.873999505585</td><td>0.0</td><td>IRU</td><td>45.2863</td><td>0.0</td><td>0.0</td><td>0.0</td><td>0.0</td><td>2014-05-30T21:05:39.368Z</td></tr><tr><td>AC</td><td>Rio Branco</td><td>1200401</td><td>8298.6541</td><td>AC-1200401-69A98AA176E24BC8990CEFB9417A8A4A</td><td>PE</td><td>Analisado com pendências, aguardando retificação e/ou apresentação de documentos</td><td>8244.4361</td><td>5324.53362373621</td><td>5306.5103</td><td>99.9105088240575</td><td>0.0281518691906137</td><td>Sim</td><td>-9.87951925357666</td><td>-68.6313721346212</td><td>2014-05-30T21:05:39.681Z</td><td>null</td><td>2909.13662900035</td><td>47.4914</td><td>IRU</td><td>118.5522</td><td>0.0</td><td>0.0</td><td>0.0</td><td>0.0</td><td>2014-05-30T21:05:39.681Z</td></tr></tbody></table></div>"
      ]
     },
     "metadata": {
      "application/vnd.databricks.v1+output": {
       "addedWidgets": {},
       "aggData": [],
       "aggError": "",
       "aggOverflow": false,
       "aggSchema": [],
       "aggSeriesLimitReached": false,
       "aggType": "",
       "arguments": {},
       "columnCustomDisplayInfos": {},
       "data": [
        [
         "AC",
         "Xapuri",
         1200708,
         935.0576,
         "AC-1200708-19C3C6A0A7B6488096185809637AC4AF",
         "PE",
         "Analisado com pendências, aguardando retificação e/ou apresentação de documentos",
         934.4761,
         0.0,
         0.0,
         61.488719378311,
         6.52856406392798,
         "Sim",
         -10.7142027389389,
         -68.2084015961516,
         "2014-05-30T21:05:38.957Z",
         "2022-01-06T19:50:28.955Z",
         891.99866751478,
         0.0,
         "IRU",
         9.3506,
         0.0,
         0.0,
         0.0,
         0.0,
         "2014-05-30T21:05:38.957Z"
        ],
        [
         "AC",
         "Capixaba",
         1200179,
         295.308,
         "AC-1200179-CF396FF9F78E4A0E8CCA9CF80716144A",
         "AT",
         "Analisado com pendências, aguardando apresentação de documentos",
         295.1906,
         23.6549331578795,
         0.0,
         0.0,
         0.205561556893404,
         "Sim",
         -10.5652398887943,
         -67.8238254166808,
         "2014-05-30T21:05:39.074Z",
         null,
         271.447441579244,
         0.0,
         "IRU",
         4.2187,
         0.0,
         0.0,
         0.0,
         0.0,
         "2014-05-30T21:05:39.074Z"
        ],
        [
         "AC",
         "Bujari",
         1200138,
         2.9585,
         "AC-1200138-218DCFB19D064EF38E435A4281FCEBB4",
         "AT",
         "Aguardando análise, não passível de revisão de dados",
         2.9585,
         0.92996846870482,
         0.0,
         0.0,
         0.0549187275759037,
         "Sim",
         -9.74302633370553,
         -68.0912357095767,
         "2014-05-30T21:05:39.141Z",
         null,
         1.97361999899,
         0.0,
         "IRU",
         0.0423,
         0.0,
         0.0,
         0.0,
         0.0,
         "2014-05-30T21:05:39.141Z"
        ],
        [
         "AC",
         "Sena Madureira",
         1200500,
         4528.6282,
         "AC-1200500-FB62BF39455A442591A7D60DBCFA800C",
         "AT",
         "Analisado com pendências, aguardando apresentação de documentos",
         4525.0442,
         4315.24535000182,
         3621.8188,
         85.2533067661144,
         0.0164362580727577,
         "Sim",
         -9.85635101020226,
         -68.8012355599982,
         "2014-05-30T21:05:39.368Z",
         null,
         198.873999505585,
         0.0,
         "IRU",
         45.2863,
         0.0,
         0.0,
         0.0,
         0.0,
         "2014-05-30T21:05:39.368Z"
        ],
        [
         "AC",
         "Rio Branco",
         1200401,
         8298.6541,
         "AC-1200401-69A98AA176E24BC8990CEFB9417A8A4A",
         "PE",
         "Analisado com pendências, aguardando retificação e/ou apresentação de documentos",
         8244.4361,
         5324.53362373621,
         5306.5103,
         99.9105088240575,
         0.0281518691906137,
         "Sim",
         -9.87951925357666,
         -68.6313721346212,
         "2014-05-30T21:05:39.681Z",
         null,
         2909.13662900035,
         47.4914,
         "IRU",
         118.5522,
         0.0,
         0.0,
         0.0,
         0.0,
         "2014-05-30T21:05:39.681Z"
        ]
       ],
       "datasetInfos": [],
       "dbfsResultPath": null,
       "isJsonSchema": true,
       "metadata": {},
       "overflow": false,
       "plotOptions": {
        "customPlotOptions": {},
        "displayType": "table",
        "pivotAggregation": null,
        "pivotColumns": null,
        "xColumns": null,
        "yColumns": null
       },
       "removedWidgets": [],
       "schema": [
        {
         "metadata": "{}",
         "name": "uf",
         "type": "\"string\""
        },
        {
         "metadata": "{}",
         "name": "municipio",
         "type": "\"string\""
        },
        {
         "metadata": "{}",
         "name": "codigo_ibge",
         "type": "\"integer\""
        },
        {
         "metadata": "{}",
         "name": "area_do_imovel",
         "type": "\"double\""
        },
        {
         "metadata": "{}",
         "name": "registro_car",
         "type": "\"string\""
        },
        {
         "metadata": "{}",
         "name": "situacao_cadastro",
         "type": "\"string\""
        },
        {
         "metadata": "{}",
         "name": "condicao_cadastro",
         "type": "\"string\""
        },
        {
         "metadata": "{}",
         "name": "area_liquida",
         "type": "\"double\""
        },
        {
         "metadata": "{}",
         "name": "area_remanescente_vegetacao_nativa",
         "type": "\"double\""
        },
        {
         "metadata": "{}",
         "name": "area_reserva_legal_proposta",
         "type": "\"double\""
        },
        {
         "metadata": "{}",
         "name": "area_preservacao_permanente",
         "type": "\"double\""
        },
        {
         "metadata": "{}",
         "name": "area_nao_classificada",
         "type": "\"double\""
        },
        {
         "metadata": "{}",
         "name": "solicitacao_adesao_pra",
         "type": "\"string\""
        },
        {
         "metadata": "{}",
         "name": "latitude",
         "type": "\"double\""
        },
        {
         "metadata": "{}",
         "name": "longitude",
         "type": "\"double\""
        },
        {
         "metadata": "{}",
         "name": "data_inscricao",
         "type": "\"timestamp\""
        },
        {
         "metadata": "{}",
         "name": "data_alteracao_condicao_cadastro",
         "type": "\"timestamp\""
        },
        {
         "metadata": "{}",
         "name": "area_rural_consolidada",
         "type": "\"double\""
        },
        {
         "metadata": "{}",
         "name": "area_servidao_administrativa",
         "type": "\"double\""
        },
        {
         "metadata": "{}",
         "name": "tipo_imovel_rural",
         "type": "\"string\""
        },
        {
         "metadata": "{}",
         "name": "modulos_fiscais",
         "type": "\"double\""
        },
        {
         "metadata": "{}",
         "name": "area_uso_restrito",
         "type": "\"double\""
        },
        {
         "metadata": "{}",
         "name": "area_reserva_legal_averbada",
         "type": "\"double\""
        },
        {
         "metadata": "{}",
         "name": "area_reserva_legal_aprovada_nao_averbada",
         "type": "\"double\""
        },
        {
         "metadata": "{}",
         "name": "area_pousio",
         "type": "\"double\""
        },
        {
         "metadata": "{}",
         "name": "data_ultima_retificacao",
         "type": "\"timestamp\""
        }
       ],
       "type": "table"
      }
     },
     "output_type": "display_data"
    },
    {
     "output_type": "stream",
     "name": "stdout",
     "output_type": "stream",
     "text": [
      "+---+--------------+-----------+--------------+--------------------+-----------------+--------------------+------------+----------------------------------+---------------------------+---------------------------+---------------------+----------------------+-----------------+-----------------+--------------------+--------------------------------+----------------------+----------------------------+-----------------+---------------+-----------------+---------------------------+----------------------------------------+-----------+-----------------------+\n| uf|     municipio|codigo_ibge|area_do_imovel|        registro_car|situacao_cadastro|   condicao_cadastro|area_liquida|area_remanescente_vegetacao_nativa|area_reserva_legal_proposta|area_preservacao_permanente|area_nao_classificada|solicitacao_adesao_pra|         latitude|        longitude|      data_inscricao|data_alteracao_condicao_cadastro|area_rural_consolidada|area_servidao_administrativa|tipo_imovel_rural|modulos_fiscais|area_uso_restrito|area_reserva_legal_averbada|area_reserva_legal_aprovada_nao_averbada|area_pousio|data_ultima_retificacao|\n+---+--------------+-----------+--------------+--------------------+-----------------+--------------------+------------+----------------------------------+---------------------------+---------------------------+---------------------+----------------------+-----------------+-----------------+--------------------+--------------------------------+----------------------+----------------------------+-----------------+---------------+-----------------+---------------------------+----------------------------------------+-----------+-----------------------+\n| AC|        Xapuri|    1200708|      935.0576|AC-1200708-19C3C6...|               PE|Analisado com pen...|    934.4761|                               0.0|                        0.0|            61.488719378311|     6.52856406392798|                   Sim|-10.7142027389389|-68.2084015961516|2014-05-30 21:05:...|            2022-01-06 19:50:...|       891.99866751478|                         0.0|              IRU|         9.3506|              0.0|                        0.0|                                     0.0|        0.0|   2014-05-30 21:05:...|\n| AC|      Capixaba|    1200179|       295.308|AC-1200179-CF396F...|               AT|Analisado com pen...|    295.1906|                  23.6549331578795|                        0.0|                        0.0|    0.205561556893404|                   Sim|-10.5652398887943|-67.8238254166808|2014-05-30 21:05:...|                            NULL|      271.447441579244|                         0.0|              IRU|         4.2187|              0.0|                        0.0|                                     0.0|        0.0|   2014-05-30 21:05:...|\n| AC|        Bujari|    1200138|        2.9585|AC-1200138-218DCF...|               AT|Aguardando anális...|      2.9585|                  0.92996846870482|                        0.0|                        0.0|   0.0549187275759037|                   Sim|-9.74302633370553|-68.0912357095767|2014-05-30 21:05:...|                            NULL|         1.97361999899|                         0.0|              IRU|         0.0423|              0.0|                        0.0|                                     0.0|        0.0|   2014-05-30 21:05:...|\n| AC|Sena Madureira|    1200500|     4528.6282|AC-1200500-FB62BF...|               AT|Analisado com pen...|   4525.0442|                  4315.24535000182|                  3621.8188|           85.2533067661144|   0.0164362580727577|                   Sim|-9.85635101020226|-68.8012355599982|2014-05-30 21:05:...|                            NULL|      198.873999505585|                         0.0|              IRU|        45.2863|              0.0|                        0.0|                                     0.0|        0.0|   2014-05-30 21:05:...|\n| AC|    Rio Branco|    1200401|     8298.6541|AC-1200401-69A98A...|               PE|Analisado com pen...|   8244.4361|                  5324.53362373621|                  5306.5103|           99.9105088240575|   0.0281518691906137|                   Sim|-9.87951925357666|-68.6313721346212|2014-05-30 21:05:...|                            NULL|      2909.13662900035|                     47.4914|              IRU|       118.5522|              0.0|                        0.0|                                     0.0|        0.0|   2014-05-30 21:05:...|\n| AC|    Rio Branco|    1200401|     1750.4796|AC-1200401-9B67C5...|               AT|Analisado com pen...|   1750.4796|                  1658.96196484854|                  1400.5257|                        0.0|     7.28462761345473|                   Nao|-9.93421657455609|-68.5560136591371|2014-05-30 21:05:...|                            NULL|      84.2314979901128|                         0.0|              IRU|        25.0069|              0.0|                        0.0|                                     0.0|        0.0|   2014-05-30 21:05:...|\n| AC|    Porto Acre|    1200807|     3283.4308|AC-1200807-6EC75C...|               AT|Aguardando anális...|   3283.4308|                  1767.82383687494|                        0.0|                        0.0|     255.147717319027|                   Sim|-9.47091523708176|-67.9125807037254|2014-05-30 21:05:...|                            NULL|      1260.35589570717|                         0.0|              IRU|        46.9062|              0.0|                        0.0|                                     0.0|        0.0|   2014-05-30 21:05:...|\n| AC|    Acrelândia|    1200013|       83.3743|AC-1200013-BF8E41...|               AT|Analisado com pen...|     81.3172|                  2.66104846386909|                     2.7709|           3.62957232775092|      0.3369894467648|                   Sim|-9.89199936375434|-67.1093657248902|2014-05-30 21:05:...|                            NULL|      79.7270019016325|                         0.0|              IRU|         0.8337|              0.0|                        0.0|                                     0.0|        0.0|   2014-05-30 21:05:...|\n| AC|     Brasiléia|    1200104|     1083.0594|AC-1200104-E8CD74...|               AT|Analisado com pen...|   1046.3882|                               0.0|                   599.8068|           58.0263979366076|     265.324755146916|                   Sim| -10.961037739174|-69.2228040960182|2014-05-30 21:05:...|                            NULL|      797.160696388376|                         0.0|              IRU|         0.0168|              0.0|                        0.0|                                     0.0|        0.0|   2014-05-30 21:05:...|\n| AC|    Acrelândia|    1200013|       77.3553|AC-1200013-8144F3...|               PE|Analisado com pen...|     75.4516|                   13.553170429825|                    13.6145|             2.939243629843|     61.7656628392888|                   Sim|-9.92239077594809|-67.0976881184555|2014-05-30 21:05:...|                            NULL|                   0.0|                         0.0|              IRU|         0.7736|              0.0|                        0.0|                                     0.0|        0.0|   2014-05-30 21:05:...|\n+---+--------------+-----------+--------------+--------------------+-----------------+--------------------+------------+----------------------------------+---------------------------+---------------------------+---------------------+----------------------+-----------------+-----------------+--------------------+--------------------------------+----------------------+----------------------------+-----------------+---------------+-----------------+---------------------------+----------------------------------------+-----------+-----------------------+\n\n"
     ]
    }
   ],
   "source": [
    "# Carregar os dados agregados da Camada Gold\n",
    "df_gold = spark.read.format(\"delta\").load(gold_path)\n",
    "\n",
    "# Exibir os dados agregados\n",
    "df_gold.limit(5).display()\n",
    "\n",
    "# Consultar os dados via SQL\n",
    "spark.sql(\"SELECT * FROM gold_temas_ambientais LIMIT 10\").show()\n"
   ]
  },
  {
   "cell_type": "markdown",
   "metadata": {
    "application/vnd.databricks.v1+cell": {
     "cellMetadata": {
      "byteLimit": 2048000,
      "rowLimit": 10000
     },
     "inputWidgets": {},
     "nuid": "a626ca90-eb81-4a9a-ac21-844d77fbd184",
     "showTitle": false,
     "tableResultSettingsMap": {},
     "title": ""
    }
   },
   "source": [
    "###Bateria de Testes (Queries)"
   ]
  },
  {
   "cell_type": "code",
   "execution_count": 0,
   "metadata": {
    "application/vnd.databricks.v1+cell": {
     "cellMetadata": {
      "byteLimit": 2048000,
      "rowLimit": 10000
     },
     "inputWidgets": {},
     "nuid": "362de32e-c65d-41b4-848c-17433db3b93b",
     "showTitle": false,
     "tableResultSettingsMap": {},
     "title": ""
    }
   },
   "outputs": [
    {
     "output_type": "display_data",
     "data": {
      "text/html": [
       "<style scoped>\n",
       "  .table-result-container {\n",
       "    max-height: 300px;\n",
       "    overflow: auto;\n",
       "  }\n",
       "  table, th, td {\n",
       "    border: 1px solid black;\n",
       "    border-collapse: collapse;\n",
       "  }\n",
       "  th, td {\n",
       "    padding: 5px;\n",
       "  }\n",
       "  th {\n",
       "    text-align: left;\n",
       "  }\n",
       "</style><div class='table-result-container'><table class='table-result'><thead style='background-color: white'><tr><th>uf</th><th>total_area_hectares</th></tr></thead><tbody><tr><td>MT</td><td>8.458708926979955E7</td></tr><tr><td>MS</td><td>3.632188266120003E7</td></tr></tbody></table></div>"
      ]
     },
     "metadata": {
      "application/vnd.databricks.v1+output": {
       "addedWidgets": {},
       "aggData": [],
       "aggError": "",
       "aggOverflow": false,
       "aggSchema": [],
       "aggSeriesLimitReached": false,
       "aggType": "",
       "arguments": {},
       "columnCustomDisplayInfos": {},
       "data": [
        [
         "MT",
         8.458708926979955E7
        ],
        [
         "MS",
         3.632188266120003E7
        ]
       ],
       "datasetInfos": [],
       "dbfsResultPath": null,
       "isJsonSchema": true,
       "metadata": {},
       "overflow": false,
       "plotOptions": {
        "customPlotOptions": {},
        "displayType": "table",
        "pivotAggregation": null,
        "pivotColumns": null,
        "xColumns": null,
        "yColumns": null
       },
       "removedWidgets": [],
       "schema": [
        {
         "metadata": "{}",
         "name": "uf",
         "type": "\"string\""
        },
        {
         "metadata": "{}",
         "name": "total_area_hectares",
         "type": "\"double\""
        }
       ],
       "type": "table"
      }
     },
     "output_type": "display_data"
    }
   ],
   "source": [
    "# Consulta 1\n",
    "# Soma de área para MS e MT, em ordem decrescente\n",
    "query1 = spark.sql(\"\"\"\n",
    "    SELECT uf, SUM(area_do_imovel) AS total_area_hectares\n",
    "    FROM gold_temas_ambientais\n",
    "    WHERE uf IN ('MS', 'MT')\n",
    "    GROUP BY uf\n",
    "    ORDER BY total_area_hectares DESC\n",
    "\"\"\")\n",
    "\n",
    "# Exibir os resultados\n",
    "display(query1)\n"
   ]
  },
  {
   "cell_type": "code",
   "execution_count": 0,
   "metadata": {
    "application/vnd.databricks.v1+cell": {
     "cellMetadata": {
      "byteLimit": 2048000,
      "rowLimit": 10000
     },
     "inputWidgets": {},
     "nuid": "ae5de159-01a6-4fae-8a67-ac69467defe8",
     "showTitle": false,
     "tableResultSettingsMap": {},
     "title": ""
    }
   },
   "outputs": [
    {
     "output_type": "display_data",
     "data": {
      "text/html": [
       "<style scoped>\n",
       "  .table-result-container {\n",
       "    max-height: 300px;\n",
       "    overflow: auto;\n",
       "  }\n",
       "  table, th, td {\n",
       "    border: 1px solid black;\n",
       "    border-collapse: collapse;\n",
       "  }\n",
       "  th, td {\n",
       "    padding: 5px;\n",
       "  }\n",
       "  th {\n",
       "    text-align: left;\n",
       "  }\n",
       "</style><div class='table-result-container'><table class='table-result'><thead style='background-color: white'><tr><th>uf</th><th>municipio</th><th>codigo_ibge</th><th>area_do_imovel</th><th>registro_car</th><th>situacao_cadastro</th><th>condicao_cadastro</th><th>area_liquida</th><th>area_remanescente_vegetacao_nativa</th><th>area_reserva_legal_proposta</th><th>area_preservacao_permanente</th><th>area_nao_classificada</th><th>solicitacao_adesao_pra</th><th>latitude</th><th>longitude</th><th>data_inscricao</th><th>data_alteracao_condicao_cadastro</th><th>area_rural_consolidada</th><th>area_servidao_administrativa</th><th>tipo_imovel_rural</th><th>modulos_fiscais</th><th>area_uso_restrito</th><th>area_reserva_legal_averbada</th><th>area_reserva_legal_aprovada_nao_averbada</th><th>area_pousio</th><th>data_ultima_retificacao</th></tr></thead><tbody><tr><td>ES</td><td>Ibiraçu</td><td>3202504</td><td>314.1342</td><td>ES-3202504-69D8657F3B1D4CA4B535C417C2308A7E</td><td>AT</td><td>Aguardando análise, não passível de revisão de dados</td><td>314.1342</td><td>0.0</td><td>0.0</td><td>0.0</td><td>314.072377485086</td><td>Nao</td><td>-19.8525944204436</td><td>-40.4928923145537</td><td>2016-05-04T22:17:47.635Z</td><td>null</td><td>0.0</td><td>0.0</td><td>PCT</td><td>4.0</td><td>0.0</td><td>0.0</td><td>0.0</td><td>0.0</td><td>2016-05-04T22:17:47.635Z</td></tr><tr><td>ES</td><td>Rio Bananal</td><td>3204351</td><td>7.99</td><td>ES-3204351-0DE30AF546164820B819802C4D55E93A</td><td>AT</td><td>Aguardando análise, não passível de revisão de dados</td><td>7.9884</td><td>2.64</td><td>2.64</td><td>0.01</td><td>0.0</td><td>Sim</td><td>-19.2473157954533</td><td>-40.2852193704247</td><td>2017-12-14T00:00:00Z</td><td>null</td><td>5.33</td><td>0.0</td><td>IRU</td><td>0.4</td><td>0.0</td><td>0.0</td><td>0.0</td><td>0.0</td><td>2017-12-14T16:33:12.28Z</td></tr><tr><td>ES</td><td>Domingos Martins</td><td>3201902</td><td>4.36</td><td>ES-3201902-F6BA12CC0C1548F1BAB0A76CB8C18BDE</td><td>AT</td><td>Aguardando análise, não passível de revisão de dados</td><td>4.3619</td><td>1.05</td><td>1.05</td><td>0.59</td><td>7.88638113591905E-4</td><td>Sim</td><td>-20.3817501007776</td><td>-40.8517174413158</td><td>2017-12-14T00:00:00Z</td><td>null</td><td>3.3</td><td>0.0</td><td>IRU</td><td>0.24</td><td>0.0</td><td>0.0</td><td>0.0</td><td>0.0</td><td>2017-12-14T16:34:18.82Z</td></tr><tr><td>ES</td><td>São Gabriel da Palha</td><td>3204708</td><td>83.02</td><td>ES-3204708-BBACBBF4B5C348DAAFE457760E87E4B6</td><td>AT</td><td>Aguardando análise, não passível de revisão de dados</td><td>83.0211</td><td>21.89</td><td>11.6</td><td>0.0</td><td>0.0103664973386715</td><td>Sim</td><td>-19.0181309820505</td><td>-40.4552425564567</td><td>2017-12-14T00:00:00Z</td><td>null</td><td>61.17</td><td>0.0</td><td>IRU</td><td>4.15</td><td>0.0</td><td>5.07</td><td>0.0</td><td>0.0</td><td>2017-12-14T16:34:41.371Z</td></tr><tr><td>ES</td><td>Ecoporanga</td><td>3202108</td><td>7.32</td><td>ES-3202108-083F1AD7BCFE4D0081A37DCD2027BAA3</td><td>AT</td><td>Aguardando análise, não passível de revisão de dados</td><td>7.3165</td><td>0.0</td><td>0.0</td><td>0.95</td><td>2.60410745378732E-4</td><td>Sim</td><td>-18.0430755961406</td><td>-40.6805885631316</td><td>2017-12-14T00:00:00Z</td><td>null</td><td>7.26</td><td>0.0</td><td>IRU</td><td>0.15</td><td>0.0</td><td>0.0</td><td>0.0</td><td>0.0</td><td>2017-12-14T16:34:53.355Z</td></tr><tr><td>ES</td><td>Montanha</td><td>3203502</td><td>20.47</td><td>ES-3203502-6479AB276B614A398BFAC18B6BD613EF</td><td>AT</td><td>Aguardando análise, não passível de revisão de dados</td><td>20.4742</td><td>0.0</td><td>0.0</td><td>3.13</td><td>3.83288103808598E-4</td><td>Sim</td><td>-18.0305222741377</td><td>-40.2157485296771</td><td>2017-12-14T00:00:00Z</td><td>null</td><td>20.27</td><td>0.0</td><td>IRU</td><td>0.34</td><td>0.0</td><td>0.0</td><td>0.0</td><td>0.0</td><td>2017-12-14T16:34:47.551Z</td></tr><tr><td>ES</td><td>Ponto Belo</td><td>3204252</td><td>4.93</td><td>ES-3204252-91D468427F314CC6A9130AA231017139</td><td>AT</td><td>Aguardando análise, não passível de revisão de dados</td><td>4.9335</td><td>0.0</td><td>0.0</td><td>1.35</td><td>0.0</td><td>Sim</td><td>-18.2481057455036</td><td>-40.5323885599816</td><td>2017-12-14T00:00:00Z</td><td>null</td><td>4.89</td><td>0.0</td><td>IRU</td><td>0.08</td><td>0.0</td><td>0.0</td><td>0.0</td><td>0.0</td><td>2017-12-14T16:35:29.54Z</td></tr><tr><td>ES</td><td>Colatina</td><td>3201506</td><td>69.72</td><td>ES-3201506-7CD51BAFE1A94152ABDE85080AE210AA</td><td>AT</td><td>Aguardando análise, não passível de revisão de dados</td><td>69.7161</td><td>14.69</td><td>10.81</td><td>6.4</td><td>0.0054509336059735</td><td>Sim</td><td>-19.4271525790449</td><td>-40.8261142827437</td><td>2017-12-14T00:00:00Z</td><td>null</td><td>54.73</td><td>0.0</td><td>IRU</td><td>3.87</td><td>0.0</td><td>0.0</td><td>0.0</td><td>0.0</td><td>2017-12-14T16:35:37.342Z</td></tr><tr><td>ES</td><td>São Gabriel da Palha</td><td>3204708</td><td>9.27</td><td>ES-3204708-92FD2FBCF66E4365AF987A5EB281F74C</td><td>AT</td><td>Aguardando análise, não passível de revisão de dados</td><td>9.2741</td><td>3.47</td><td>2.05</td><td>0.0</td><td>1.02395404866908</td><td>Sim</td><td>-18.9339233345634</td><td>-40.397457495568</td><td>2016-05-02T00:00:00Z</td><td>null</td><td>4.77</td><td>0.0</td><td>IRU</td><td>0.46</td><td>0.0</td><td>0.0</td><td>0.0</td><td>0.0</td><td>2017-12-14T19:11:30.332Z</td></tr><tr><td>ES</td><td>Anchieta</td><td>3200409</td><td>17.85</td><td>ES-3200409-BB756500D56243EE8C2CE94467E6112C</td><td>AT</td><td>Aguardando análise, não passível de revisão de dados</td><td>17.8481</td><td>0.81</td><td>0.81</td><td>4.23</td><td>0.0</td><td>Sim</td><td>-20.7902874422207</td><td>-40.675579786973</td><td>2016-05-02T00:00:00Z</td><td>null</td><td>17.04</td><td>0.0</td><td>IRU</td><td>1.12</td><td>0.0</td><td>0.0</td><td>0.0</td><td>0.0</td><td>2017-12-14T19:11:38.152Z</td></tr></tbody></table></div>"
      ]
     },
     "metadata": {
      "application/vnd.databricks.v1+output": {
       "addedWidgets": {},
       "aggData": [],
       "aggError": "",
       "aggOverflow": false,
       "aggSchema": [],
       "aggSeriesLimitReached": false,
       "aggType": "",
       "arguments": {},
       "columnCustomDisplayInfos": {},
       "data": [
        [
         "ES",
         "Ibiraçu",
         3202504,
         314.1342,
         "ES-3202504-69D8657F3B1D4CA4B535C417C2308A7E",
         "AT",
         "Aguardando análise, não passível de revisão de dados",
         314.1342,
         0.0,
         0.0,
         0.0,
         314.072377485086,
         "Nao",
         -19.8525944204436,
         -40.4928923145537,
         "2016-05-04T22:17:47.635Z",
         null,
         0.0,
         0.0,
         "PCT",
         4.0,
         0.0,
         0.0,
         0.0,
         0.0,
         "2016-05-04T22:17:47.635Z"
        ],
        [
         "ES",
         "Rio Bananal",
         3204351,
         7.99,
         "ES-3204351-0DE30AF546164820B819802C4D55E93A",
         "AT",
         "Aguardando análise, não passível de revisão de dados",
         7.9884,
         2.64,
         2.64,
         0.01,
         0.0,
         "Sim",
         -19.2473157954533,
         -40.2852193704247,
         "2017-12-14T00:00:00Z",
         null,
         5.33,
         0.0,
         "IRU",
         0.4,
         0.0,
         0.0,
         0.0,
         0.0,
         "2017-12-14T16:33:12.28Z"
        ],
        [
         "ES",
         "Domingos Martins",
         3201902,
         4.36,
         "ES-3201902-F6BA12CC0C1548F1BAB0A76CB8C18BDE",
         "AT",
         "Aguardando análise, não passível de revisão de dados",
         4.3619,
         1.05,
         1.05,
         0.59,
         7.88638113591905E-4,
         "Sim",
         -20.3817501007776,
         -40.8517174413158,
         "2017-12-14T00:00:00Z",
         null,
         3.3,
         0.0,
         "IRU",
         0.24,
         0.0,
         0.0,
         0.0,
         0.0,
         "2017-12-14T16:34:18.82Z"
        ],
        [
         "ES",
         "São Gabriel da Palha",
         3204708,
         83.02,
         "ES-3204708-BBACBBF4B5C348DAAFE457760E87E4B6",
         "AT",
         "Aguardando análise, não passível de revisão de dados",
         83.0211,
         21.89,
         11.6,
         0.0,
         0.0103664973386715,
         "Sim",
         -19.0181309820505,
         -40.4552425564567,
         "2017-12-14T00:00:00Z",
         null,
         61.17,
         0.0,
         "IRU",
         4.15,
         0.0,
         5.07,
         0.0,
         0.0,
         "2017-12-14T16:34:41.371Z"
        ],
        [
         "ES",
         "Ecoporanga",
         3202108,
         7.32,
         "ES-3202108-083F1AD7BCFE4D0081A37DCD2027BAA3",
         "AT",
         "Aguardando análise, não passível de revisão de dados",
         7.3165,
         0.0,
         0.0,
         0.95,
         2.60410745378732E-4,
         "Sim",
         -18.0430755961406,
         -40.6805885631316,
         "2017-12-14T00:00:00Z",
         null,
         7.26,
         0.0,
         "IRU",
         0.15,
         0.0,
         0.0,
         0.0,
         0.0,
         "2017-12-14T16:34:53.355Z"
        ],
        [
         "ES",
         "Montanha",
         3203502,
         20.47,
         "ES-3203502-6479AB276B614A398BFAC18B6BD613EF",
         "AT",
         "Aguardando análise, não passível de revisão de dados",
         20.4742,
         0.0,
         0.0,
         3.13,
         3.83288103808598E-4,
         "Sim",
         -18.0305222741377,
         -40.2157485296771,
         "2017-12-14T00:00:00Z",
         null,
         20.27,
         0.0,
         "IRU",
         0.34,
         0.0,
         0.0,
         0.0,
         0.0,
         "2017-12-14T16:34:47.551Z"
        ],
        [
         "ES",
         "Ponto Belo",
         3204252,
         4.93,
         "ES-3204252-91D468427F314CC6A9130AA231017139",
         "AT",
         "Aguardando análise, não passível de revisão de dados",
         4.9335,
         0.0,
         0.0,
         1.35,
         0.0,
         "Sim",
         -18.2481057455036,
         -40.5323885599816,
         "2017-12-14T00:00:00Z",
         null,
         4.89,
         0.0,
         "IRU",
         0.08,
         0.0,
         0.0,
         0.0,
         0.0,
         "2017-12-14T16:35:29.54Z"
        ],
        [
         "ES",
         "Colatina",
         3201506,
         69.72,
         "ES-3201506-7CD51BAFE1A94152ABDE85080AE210AA",
         "AT",
         "Aguardando análise, não passível de revisão de dados",
         69.7161,
         14.69,
         10.81,
         6.4,
         0.0054509336059735,
         "Sim",
         -19.4271525790449,
         -40.8261142827437,
         "2017-12-14T00:00:00Z",
         null,
         54.73,
         0.0,
         "IRU",
         3.87,
         0.0,
         0.0,
         0.0,
         0.0,
         "2017-12-14T16:35:37.342Z"
        ],
        [
         "ES",
         "São Gabriel da Palha",
         3204708,
         9.27,
         "ES-3204708-92FD2FBCF66E4365AF987A5EB281F74C",
         "AT",
         "Aguardando análise, não passível de revisão de dados",
         9.2741,
         3.47,
         2.05,
         0.0,
         1.02395404866908,
         "Sim",
         -18.9339233345634,
         -40.397457495568,
         "2016-05-02T00:00:00Z",
         null,
         4.77,
         0.0,
         "IRU",
         0.46,
         0.0,
         0.0,
         0.0,
         0.0,
         "2017-12-14T19:11:30.332Z"
        ],
        [
         "ES",
         "Anchieta",
         3200409,
         17.85,
         "ES-3200409-BB756500D56243EE8C2CE94467E6112C",
         "AT",
         "Aguardando análise, não passível de revisão de dados",
         17.8481,
         0.81,
         0.81,
         4.23,
         0.0,
         "Sim",
         -20.7902874422207,
         -40.675579786973,
         "2016-05-02T00:00:00Z",
         null,
         17.04,
         0.0,
         "IRU",
         1.12,
         0.0,
         0.0,
         0.0,
         0.0,
         "2017-12-14T19:11:38.152Z"
        ]
       ],
       "datasetInfos": [],
       "dbfsResultPath": null,
       "isJsonSchema": true,
       "metadata": {},
       "overflow": false,
       "plotOptions": {
        "customPlotOptions": {},
        "displayType": "table",
        "pivotAggregation": null,
        "pivotColumns": null,
        "xColumns": null,
        "yColumns": null
       },
       "removedWidgets": [],
       "schema": [
        {
         "metadata": "{}",
         "name": "uf",
         "type": "\"string\""
        },
        {
         "metadata": "{}",
         "name": "municipio",
         "type": "\"string\""
        },
        {
         "metadata": "{}",
         "name": "codigo_ibge",
         "type": "\"integer\""
        },
        {
         "metadata": "{}",
         "name": "area_do_imovel",
         "type": "\"double\""
        },
        {
         "metadata": "{}",
         "name": "registro_car",
         "type": "\"string\""
        },
        {
         "metadata": "{}",
         "name": "situacao_cadastro",
         "type": "\"string\""
        },
        {
         "metadata": "{}",
         "name": "condicao_cadastro",
         "type": "\"string\""
        },
        {
         "metadata": "{}",
         "name": "area_liquida",
         "type": "\"double\""
        },
        {
         "metadata": "{}",
         "name": "area_remanescente_vegetacao_nativa",
         "type": "\"double\""
        },
        {
         "metadata": "{}",
         "name": "area_reserva_legal_proposta",
         "type": "\"double\""
        },
        {
         "metadata": "{}",
         "name": "area_preservacao_permanente",
         "type": "\"double\""
        },
        {
         "metadata": "{}",
         "name": "area_nao_classificada",
         "type": "\"double\""
        },
        {
         "metadata": "{}",
         "name": "solicitacao_adesao_pra",
         "type": "\"string\""
        },
        {
         "metadata": "{}",
         "name": "latitude",
         "type": "\"double\""
        },
        {
         "metadata": "{}",
         "name": "longitude",
         "type": "\"double\""
        },
        {
         "metadata": "{}",
         "name": "data_inscricao",
         "type": "\"timestamp\""
        },
        {
         "metadata": "{}",
         "name": "data_alteracao_condicao_cadastro",
         "type": "\"timestamp\""
        },
        {
         "metadata": "{}",
         "name": "area_rural_consolidada",
         "type": "\"double\""
        },
        {
         "metadata": "{}",
         "name": "area_servidao_administrativa",
         "type": "\"double\""
        },
        {
         "metadata": "{}",
         "name": "tipo_imovel_rural",
         "type": "\"string\""
        },
        {
         "metadata": "{}",
         "name": "modulos_fiscais",
         "type": "\"double\""
        },
        {
         "metadata": "{}",
         "name": "area_uso_restrito",
         "type": "\"double\""
        },
        {
         "metadata": "{}",
         "name": "area_reserva_legal_averbada",
         "type": "\"double\""
        },
        {
         "metadata": "{}",
         "name": "area_reserva_legal_aprovada_nao_averbada",
         "type": "\"double\""
        },
        {
         "metadata": "{}",
         "name": "area_pousio",
         "type": "\"double\""
        },
        {
         "metadata": "{}",
         "name": "data_ultima_retificacao",
         "type": "\"timestamp\""
        }
       ],
       "type": "table"
      }
     },
     "output_type": "display_data"
    }
   ],
   "source": [
    "# Consulta 2\n",
    "# Filtrar propriedades da região Sudeste\n",
    "query2 = spark.sql(\"\"\"\n",
    "    SELECT *\n",
    "    FROM gold_temas_ambientais\n",
    "    WHERE uf IN ('SP', 'RJ', 'MG', 'ES')\n",
    "\"\"\")\n",
    "\n",
    "# Exibir as primeiras propriedades da região Sudeste\n",
    "display(query2.limit(10))\n"
   ]
  },
  {
   "cell_type": "code",
   "execution_count": 0,
   "metadata": {
    "application/vnd.databricks.v1+cell": {
     "cellMetadata": {
      "byteLimit": 2048000,
      "rowLimit": 10000
     },
     "inputWidgets": {},
     "nuid": "93d2d408-3da6-4c4a-a627-c11620af398a",
     "showTitle": false,
     "tableResultSettingsMap": {},
     "title": ""
    }
   },
   "outputs": [
    {
     "output_type": "display_data",
     "data": {
      "text/html": [
       "<style scoped>\n",
       "  .table-result-container {\n",
       "    max-height: 300px;\n",
       "    overflow: auto;\n",
       "  }\n",
       "  table, th, td {\n",
       "    border: 1px solid black;\n",
       "    border-collapse: collapse;\n",
       "  }\n",
       "  th, td {\n",
       "    padding: 5px;\n",
       "  }\n",
       "  th {\n",
       "    text-align: left;\n",
       "  }\n",
       "</style><div class='table-result-container'><table class='table-result'><thead style='background-color: white'><tr><th>uf</th><th>municipio</th><th>codigo_ibge</th><th>area_do_imovel</th><th>registro_car</th><th>situacao_cadastro</th><th>condicao_cadastro</th><th>area_liquida</th><th>area_remanescente_vegetacao_nativa</th><th>area_reserva_legal_proposta</th><th>area_preservacao_permanente</th><th>area_nao_classificada</th><th>solicitacao_adesao_pra</th><th>latitude</th><th>longitude</th><th>data_inscricao</th><th>data_alteracao_condicao_cadastro</th><th>area_rural_consolidada</th><th>area_servidao_administrativa</th><th>tipo_imovel_rural</th><th>modulos_fiscais</th><th>area_uso_restrito</th><th>area_reserva_legal_averbada</th><th>area_reserva_legal_aprovada_nao_averbada</th><th>area_pousio</th><th>data_ultima_retificacao</th></tr></thead><tbody><tr><td>GO</td><td>Caiapônia</td><td>5204409</td><td>195.8985</td><td>GO-5204409-6924D519EF9244648EB009539D3D9753</td><td>PE</td><td>Analisado com pendências, aguardando retificação e/ou apresentação de documentos</td><td>195.6028</td><td>193.040465236806</td><td>38.4985</td><td>16.3696915324486</td><td>0.0</td><td>Nao</td><td>-17.118992154096</td><td>-51.5959819982595</td><td>2014-05-11T09:27:48.5Z</td><td>null</td><td>0.0</td><td>0.0</td><td>IRU</td><td>3.265</td><td>0.0</td><td>0.0</td><td>0.0</td><td>0.0</td><td>2014-05-11T09:27:48.5Z</td></tr><tr><td>GO</td><td>Caiapônia</td><td>5204409</td><td>391.9673</td><td>GO-5204409-29C77215AF204099B40658289E1F09BC</td><td>PE</td><td>Analisado com pendências, aguardando retificação e/ou apresentação de documentos</td><td>391.3813</td><td>389.260278100578</td><td>77.5853</td><td>16.0453100108765</td><td>0.0</td><td>Nao</td><td>-17.1232355286134</td><td>-51.6111926571558</td><td>2014-05-11T10:59:26.731Z</td><td>null</td><td>0.0</td><td>0.0</td><td>IRU</td><td>6.5328</td><td>0.0</td><td>0.0</td><td>0.0</td><td>0.0</td><td>2014-05-11T10:59:26.731Z</td></tr><tr><td>GO</td><td>Caiapônia</td><td>5204409</td><td>108.1409</td><td>GO-5204409-05CDDE0D903540289792DED4B60D7FC6</td><td>PE</td><td>Analisado com pendências, aguardando retificação e/ou apresentação de documentos</td><td>108.0315</td><td>107.928773218584</td><td>21.4538</td><td>1.35032117744833</td><td>0.0</td><td>Nao</td><td>-17.2272688678909</td><td>-52.0611379478198</td><td>2014-05-11T11:10:43.313Z</td><td>null</td><td>0.0</td><td>0.0</td><td>IRU</td><td>1.8023</td><td>0.0</td><td>0.0</td><td>0.0</td><td>0.0</td><td>2014-05-11T11:10:43.313Z</td></tr><tr><td>GO</td><td>Caiapônia</td><td>5204409</td><td>422.0878</td><td>GO-5204409-48DE25DEE5B8490D93CF90F79022266E</td><td>PE</td><td>Analisado com pendências, aguardando retificação e/ou apresentação de documentos</td><td>421.4525</td><td>422.087792600632</td><td>84.3033</td><td>0.0</td><td>0.0</td><td>Nao</td><td>-17.0923642253856</td><td>-51.5989472024192</td><td>2014-05-11T11:12:47.628Z</td><td>null</td><td>0.0</td><td>0.0</td><td>IRU</td><td>7.0348</td><td>0.0</td><td>0.0</td><td>0.0</td><td>0.0</td><td>2014-05-11T11:12:47.628Z</td></tr><tr><td>GO</td><td>Caiapônia</td><td>5204409</td><td>545.2243</td><td>GO-5204409-5563DDF5891E4CE4A39A83EA65E07904</td><td>PE</td><td>Analisado com pendências, aguardando retificação e/ou apresentação de documentos</td><td>544.3281</td><td>544.491653470397</td><td>108.2674</td><td>4.51203189095352</td><td>0.0</td><td>Nao</td><td>-17.11702846203</td><td>-51.4593113547756</td><td>2014-05-11T11:15:01.836Z</td><td>null</td><td>0.0</td><td>0.0</td><td>IRU</td><td>9.0871</td><td>0.0</td><td>0.0</td><td>0.0</td><td>0.0</td><td>2014-05-11T11:15:01.836Z</td></tr><tr><td>GO</td><td>Caiapônia</td><td>5204409</td><td>197.5993</td><td>GO-5204409-79418BE625514399A28DC302DC17F013</td><td>PE</td><td>Analisado com pendências, aguardando retificação e/ou apresentação de documentos</td><td>197.2709</td><td>197.599297358608</td><td>39.5022</td><td>83.6170568057138</td><td>0.0</td><td>Nao</td><td>-17.1671264858525</td><td>-51.4378006049413</td><td>2014-05-11T11:16:43.969Z</td><td>null</td><td>0.0</td><td>0.0</td><td>IRU</td><td>3.2933</td><td>0.0</td><td>0.0</td><td>0.0</td><td>0.0</td><td>2014-05-11T11:16:43.969Z</td></tr><tr><td>GO</td><td>Caiapônia</td><td>5204409</td><td>97.3442</td><td>GO-5204409-8AC8D2CCE04744C49318AE9480D058E4</td><td>PE</td><td>Analisado com pendências, aguardando retificação e/ou apresentação de documentos</td><td>97.1972</td><td>96.37477998854</td><td>19.5018</td><td>5.79680014259443</td><td>0.0</td><td>Nao</td><td>-17.1298544449775</td><td>-51.5940427189541</td><td>2014-05-11T11:18:22.891Z</td><td>null</td><td>0.0</td><td>0.0</td><td>IRU</td><td>1.6224</td><td>0.0</td><td>0.0</td><td>0.0</td><td>0.0</td><td>2014-05-11T11:18:22.891Z</td></tr><tr><td>GO</td><td>Caiapônia</td><td>5204409</td><td>143.0842</td><td>GO-5204409-13F0DDE3F2054674AB625FF960F7B8F9</td><td>PE</td><td>Analisado com pendências, aguardando retificação e/ou apresentação de documentos</td><td>142.8692</td><td>143.084231577808</td><td>28.5732</td><td>0.0</td><td>0.0</td><td>Nao</td><td>-17.1136275529193</td><td>-51.6019897003818</td><td>2014-05-11T11:22:30.733Z</td><td>null</td><td>0.0</td><td>0.0</td><td>IRU</td><td>2.3847</td><td>0.0</td><td>0.0</td><td>0.0</td><td>0.0</td><td>2014-05-11T11:22:30.733Z</td></tr><tr><td>GO</td><td>Caiapônia</td><td>5204409</td><td>560.3515</td><td>GO-5204409-9CE8FB5D96F34BA3ACD4194FD1323593</td><td>PE</td><td>Analisado com pendências, aguardando retificação e/ou apresentação de documentos</td><td>559.4653</td><td>560.351523708534</td><td>111.9016</td><td>0.0</td><td>0.0</td><td>Nao</td><td>-17.1151440909676</td><td>-51.5220864541221</td><td>2014-05-11T11:39:58.246Z</td><td>null</td><td>0.0</td><td>0.0</td><td>IRU</td><td>9.3392</td><td>0.0</td><td>0.0</td><td>0.0</td><td>0.0</td><td>2014-05-11T11:39:58.246Z</td></tr><tr><td>GO</td><td>Caiapônia</td><td>5204409</td><td>228.4778</td><td>GO-5204409-593FCAE404DC4C2ABAA69E48C081B4E0</td><td>PE</td><td>Analisado com pendências, aguardando retificação e/ou apresentação de documentos</td><td>228.102</td><td>228.477839460278</td><td>45.6202</td><td>0.0</td><td>0.0</td><td>Nao</td><td>-17.1323942237996</td><td>-51.4568250070597</td><td>2014-05-11T12:12:00.17Z</td><td>null</td><td>0.0</td><td>0.0</td><td>IRU</td><td>3.808</td><td>0.0</td><td>0.0</td><td>0.0</td><td>0.0</td><td>2014-05-11T12:12:00.17Z</td></tr></tbody></table></div>"
      ]
     },
     "metadata": {
      "application/vnd.databricks.v1+output": {
       "addedWidgets": {},
       "aggData": [],
       "aggError": "",
       "aggOverflow": false,
       "aggSchema": [],
       "aggSeriesLimitReached": false,
       "aggType": "",
       "arguments": {},
       "columnCustomDisplayInfos": {},
       "data": [
        [
         "GO",
         "Caiapônia",
         5204409,
         195.8985,
         "GO-5204409-6924D519EF9244648EB009539D3D9753",
         "PE",
         "Analisado com pendências, aguardando retificação e/ou apresentação de documentos",
         195.6028,
         193.040465236806,
         38.4985,
         16.3696915324486,
         0.0,
         "Nao",
         -17.118992154096,
         -51.5959819982595,
         "2014-05-11T09:27:48.5Z",
         null,
         0.0,
         0.0,
         "IRU",
         3.265,
         0.0,
         0.0,
         0.0,
         0.0,
         "2014-05-11T09:27:48.5Z"
        ],
        [
         "GO",
         "Caiapônia",
         5204409,
         391.9673,
         "GO-5204409-29C77215AF204099B40658289E1F09BC",
         "PE",
         "Analisado com pendências, aguardando retificação e/ou apresentação de documentos",
         391.3813,
         389.260278100578,
         77.5853,
         16.0453100108765,
         0.0,
         "Nao",
         -17.1232355286134,
         -51.6111926571558,
         "2014-05-11T10:59:26.731Z",
         null,
         0.0,
         0.0,
         "IRU",
         6.5328,
         0.0,
         0.0,
         0.0,
         0.0,
         "2014-05-11T10:59:26.731Z"
        ],
        [
         "GO",
         "Caiapônia",
         5204409,
         108.1409,
         "GO-5204409-05CDDE0D903540289792DED4B60D7FC6",
         "PE",
         "Analisado com pendências, aguardando retificação e/ou apresentação de documentos",
         108.0315,
         107.928773218584,
         21.4538,
         1.35032117744833,
         0.0,
         "Nao",
         -17.2272688678909,
         -52.0611379478198,
         "2014-05-11T11:10:43.313Z",
         null,
         0.0,
         0.0,
         "IRU",
         1.8023,
         0.0,
         0.0,
         0.0,
         0.0,
         "2014-05-11T11:10:43.313Z"
        ],
        [
         "GO",
         "Caiapônia",
         5204409,
         422.0878,
         "GO-5204409-48DE25DEE5B8490D93CF90F79022266E",
         "PE",
         "Analisado com pendências, aguardando retificação e/ou apresentação de documentos",
         421.4525,
         422.087792600632,
         84.3033,
         0.0,
         0.0,
         "Nao",
         -17.0923642253856,
         -51.5989472024192,
         "2014-05-11T11:12:47.628Z",
         null,
         0.0,
         0.0,
         "IRU",
         7.0348,
         0.0,
         0.0,
         0.0,
         0.0,
         "2014-05-11T11:12:47.628Z"
        ],
        [
         "GO",
         "Caiapônia",
         5204409,
         545.2243,
         "GO-5204409-5563DDF5891E4CE4A39A83EA65E07904",
         "PE",
         "Analisado com pendências, aguardando retificação e/ou apresentação de documentos",
         544.3281,
         544.491653470397,
         108.2674,
         4.51203189095352,
         0.0,
         "Nao",
         -17.11702846203,
         -51.4593113547756,
         "2014-05-11T11:15:01.836Z",
         null,
         0.0,
         0.0,
         "IRU",
         9.0871,
         0.0,
         0.0,
         0.0,
         0.0,
         "2014-05-11T11:15:01.836Z"
        ],
        [
         "GO",
         "Caiapônia",
         5204409,
         197.5993,
         "GO-5204409-79418BE625514399A28DC302DC17F013",
         "PE",
         "Analisado com pendências, aguardando retificação e/ou apresentação de documentos",
         197.2709,
         197.599297358608,
         39.5022,
         83.6170568057138,
         0.0,
         "Nao",
         -17.1671264858525,
         -51.4378006049413,
         "2014-05-11T11:16:43.969Z",
         null,
         0.0,
         0.0,
         "IRU",
         3.2933,
         0.0,
         0.0,
         0.0,
         0.0,
         "2014-05-11T11:16:43.969Z"
        ],
        [
         "GO",
         "Caiapônia",
         5204409,
         97.3442,
         "GO-5204409-8AC8D2CCE04744C49318AE9480D058E4",
         "PE",
         "Analisado com pendências, aguardando retificação e/ou apresentação de documentos",
         97.1972,
         96.37477998854,
         19.5018,
         5.79680014259443,
         0.0,
         "Nao",
         -17.1298544449775,
         -51.5940427189541,
         "2014-05-11T11:18:22.891Z",
         null,
         0.0,
         0.0,
         "IRU",
         1.6224,
         0.0,
         0.0,
         0.0,
         0.0,
         "2014-05-11T11:18:22.891Z"
        ],
        [
         "GO",
         "Caiapônia",
         5204409,
         143.0842,
         "GO-5204409-13F0DDE3F2054674AB625FF960F7B8F9",
         "PE",
         "Analisado com pendências, aguardando retificação e/ou apresentação de documentos",
         142.8692,
         143.084231577808,
         28.5732,
         0.0,
         0.0,
         "Nao",
         -17.1136275529193,
         -51.6019897003818,
         "2014-05-11T11:22:30.733Z",
         null,
         0.0,
         0.0,
         "IRU",
         2.3847,
         0.0,
         0.0,
         0.0,
         0.0,
         "2014-05-11T11:22:30.733Z"
        ],
        [
         "GO",
         "Caiapônia",
         5204409,
         560.3515,
         "GO-5204409-9CE8FB5D96F34BA3ACD4194FD1323593",
         "PE",
         "Analisado com pendências, aguardando retificação e/ou apresentação de documentos",
         559.4653,
         560.351523708534,
         111.9016,
         0.0,
         0.0,
         "Nao",
         -17.1151440909676,
         -51.5220864541221,
         "2014-05-11T11:39:58.246Z",
         null,
         0.0,
         0.0,
         "IRU",
         9.3392,
         0.0,
         0.0,
         0.0,
         0.0,
         "2014-05-11T11:39:58.246Z"
        ],
        [
         "GO",
         "Caiapônia",
         5204409,
         228.4778,
         "GO-5204409-593FCAE404DC4C2ABAA69E48C081B4E0",
         "PE",
         "Analisado com pendências, aguardando retificação e/ou apresentação de documentos",
         228.102,
         228.477839460278,
         45.6202,
         0.0,
         0.0,
         "Nao",
         -17.1323942237996,
         -51.4568250070597,
         "2014-05-11T12:12:00.17Z",
         null,
         0.0,
         0.0,
         "IRU",
         3.808,
         0.0,
         0.0,
         0.0,
         0.0,
         "2014-05-11T12:12:00.17Z"
        ]
       ],
       "datasetInfos": [],
       "dbfsResultPath": null,
       "isJsonSchema": true,
       "metadata": {},
       "overflow": false,
       "plotOptions": {
        "customPlotOptions": {},
        "displayType": "table",
        "pivotAggregation": null,
        "pivotColumns": null,
        "xColumns": null,
        "yColumns": null
       },
       "removedWidgets": [],
       "schema": [
        {
         "metadata": "{}",
         "name": "uf",
         "type": "\"string\""
        },
        {
         "metadata": "{}",
         "name": "municipio",
         "type": "\"string\""
        },
        {
         "metadata": "{}",
         "name": "codigo_ibge",
         "type": "\"integer\""
        },
        {
         "metadata": "{}",
         "name": "area_do_imovel",
         "type": "\"double\""
        },
        {
         "metadata": "{}",
         "name": "registro_car",
         "type": "\"string\""
        },
        {
         "metadata": "{}",
         "name": "situacao_cadastro",
         "type": "\"string\""
        },
        {
         "metadata": "{}",
         "name": "condicao_cadastro",
         "type": "\"string\""
        },
        {
         "metadata": "{}",
         "name": "area_liquida",
         "type": "\"double\""
        },
        {
         "metadata": "{}",
         "name": "area_remanescente_vegetacao_nativa",
         "type": "\"double\""
        },
        {
         "metadata": "{}",
         "name": "area_reserva_legal_proposta",
         "type": "\"double\""
        },
        {
         "metadata": "{}",
         "name": "area_preservacao_permanente",
         "type": "\"double\""
        },
        {
         "metadata": "{}",
         "name": "area_nao_classificada",
         "type": "\"double\""
        },
        {
         "metadata": "{}",
         "name": "solicitacao_adesao_pra",
         "type": "\"string\""
        },
        {
         "metadata": "{}",
         "name": "latitude",
         "type": "\"double\""
        },
        {
         "metadata": "{}",
         "name": "longitude",
         "type": "\"double\""
        },
        {
         "metadata": "{}",
         "name": "data_inscricao",
         "type": "\"timestamp\""
        },
        {
         "metadata": "{}",
         "name": "data_alteracao_condicao_cadastro",
         "type": "\"timestamp\""
        },
        {
         "metadata": "{}",
         "name": "area_rural_consolidada",
         "type": "\"double\""
        },
        {
         "metadata": "{}",
         "name": "area_servidao_administrativa",
         "type": "\"double\""
        },
        {
         "metadata": "{}",
         "name": "tipo_imovel_rural",
         "type": "\"string\""
        },
        {
         "metadata": "{}",
         "name": "modulos_fiscais",
         "type": "\"double\""
        },
        {
         "metadata": "{}",
         "name": "area_uso_restrito",
         "type": "\"double\""
        },
        {
         "metadata": "{}",
         "name": "area_reserva_legal_averbada",
         "type": "\"double\""
        },
        {
         "metadata": "{}",
         "name": "area_reserva_legal_aprovada_nao_averbada",
         "type": "\"double\""
        },
        {
         "metadata": "{}",
         "name": "area_pousio",
         "type": "\"double\""
        },
        {
         "metadata": "{}",
         "name": "data_ultima_retificacao",
         "type": "\"timestamp\""
        }
       ],
       "type": "table"
      }
     },
     "output_type": "display_data"
    }
   ],
   "source": [
    "# Consulta 3\n",
    "\n",
    "from pyspark.sql.functions import col\n",
    "\n",
    "# Definir coordenadas do polígono (usaremos bounds para simplificar)\n",
    "min_lon, max_lon = -53.8181518, -51.0495971\n",
    "min_lat, max_lat = -19.4632582, -16.1924262\n",
    "\n",
    "# Filtrar propriedades dentro do bounding box do polígono\n",
    "query3 = spark.sql(f\"\"\"\n",
    "    SELECT *\n",
    "    FROM gold_temas_ambientais\n",
    "    WHERE longitude BETWEEN {min_lon} AND {max_lon}\n",
    "      AND latitude BETWEEN {min_lat} AND {max_lat}\n",
    "\"\"\")\n",
    "\n",
    "# Exibir os resultados\n",
    "display(query3.limit(10))\n"
   ]
  },
  {
   "cell_type": "code",
   "execution_count": 0,
   "metadata": {
    "application/vnd.databricks.v1+cell": {
     "cellMetadata": {
      "byteLimit": 2048000,
      "rowLimit": 10000
     },
     "inputWidgets": {},
     "nuid": "75119400-cd2e-4be8-8f57-e648ac9e2bbf",
     "showTitle": false,
     "tableResultSettingsMap": {},
     "title": ""
    }
   },
   "outputs": [
    {
     "output_type": "display_data",
     "data": {
      "text/html": [
       "<style scoped>\n",
       "  .table-result-container {\n",
       "    max-height: 300px;\n",
       "    overflow: auto;\n",
       "  }\n",
       "  table, th, td {\n",
       "    border: 1px solid black;\n",
       "    border-collapse: collapse;\n",
       "  }\n",
       "  th, td {\n",
       "    padding: 5px;\n",
       "  }\n",
       "  th {\n",
       "    text-align: left;\n",
       "  }\n",
       "</style><div class='table-result-container'><table class='table-result'><thead style='background-color: white'><tr><th>ano_cadastro</th><th>total_propriedades</th></tr></thead><tbody><tr><td>null</td><td>12</td></tr><tr><td>2013</td><td>743</td></tr><tr><td>2014</td><td>227468</td></tr><tr><td>2015</td><td>1240178</td></tr><tr><td>2016</td><td>1828786</td></tr><tr><td>2017</td><td>794779</td></tr><tr><td>2018</td><td>724856</td></tr><tr><td>2019</td><td>746570</td></tr><tr><td>2020</td><td>463322</td></tr><tr><td>2021</td><td>443942</td></tr><tr><td>2022</td><td>368448</td></tr></tbody></table></div>"
      ]
     },
     "metadata": {
      "application/vnd.databricks.v1+output": {
       "addedWidgets": {},
       "aggData": [],
       "aggError": "",
       "aggOverflow": false,
       "aggSchema": [],
       "aggSeriesLimitReached": false,
       "aggType": "",
       "arguments": {},
       "columnCustomDisplayInfos": {},
       "data": [
        [
         null,
         12
        ],
        [
         2013,
         743
        ],
        [
         2014,
         227468
        ],
        [
         2015,
         1240178
        ],
        [
         2016,
         1828786
        ],
        [
         2017,
         794779
        ],
        [
         2018,
         724856
        ],
        [
         2019,
         746570
        ],
        [
         2020,
         463322
        ],
        [
         2021,
         443942
        ],
        [
         2022,
         368448
        ]
       ],
       "datasetInfos": [],
       "dbfsResultPath": null,
       "isJsonSchema": true,
       "metadata": {},
       "overflow": false,
       "plotOptions": {
        "customPlotOptions": {},
        "displayType": "table",
        "pivotAggregation": null,
        "pivotColumns": null,
        "xColumns": null,
        "yColumns": null
       },
       "removedWidgets": [],
       "schema": [
        {
         "metadata": "{}",
         "name": "ano_cadastro",
         "type": "\"integer\""
        },
        {
         "metadata": "{}",
         "name": "total_propriedades",
         "type": "\"long\""
        }
       ],
       "type": "table"
      }
     },
     "output_type": "display_data"
    }
   ],
   "source": [
    "# Consulta 4\n",
    "# Contagem de propriedades cadastradas por ano\n",
    "query4 = spark.sql(\"\"\"\n",
    "    SELECT YEAR(data_inscricao) AS ano_cadastro, COUNT(*) AS total_propriedades\n",
    "    FROM gold_temas_ambientais\n",
    "    GROUP BY ano_cadastro\n",
    "    ORDER BY ano_cadastro\n",
    "\"\"\")\n",
    "\n",
    "# Exibir os resultados\n",
    "display(query4)\n"
   ]
  },
  {
   "cell_type": "code",
   "execution_count": 0,
   "metadata": {
    "application/vnd.databricks.v1+cell": {
     "cellMetadata": {
      "byteLimit": 2048000,
      "rowLimit": 10000
     },
     "inputWidgets": {},
     "nuid": "79dfc1aa-ed8f-46b4-9a39-16602a7a8ce8",
     "showTitle": false,
     "tableResultSettingsMap": {},
     "title": ""
    }
   },
   "outputs": [
    {
     "output_type": "display_data",
     "data": {
      "text/html": [
       "<style scoped>\n",
       "  .table-result-container {\n",
       "    max-height: 300px;\n",
       "    overflow: auto;\n",
       "  }\n",
       "  table, th, td {\n",
       "    border: 1px solid black;\n",
       "    border-collapse: collapse;\n",
       "  }\n",
       "  th, td {\n",
       "    padding: 5px;\n",
       "  }\n",
       "  th {\n",
       "    text-align: left;\n",
       "  }\n",
       "</style><div class='table-result-container'><table class='table-result'><thead style='background-color: white'><tr><th>percentual_medio_vegetacao</th></tr></thead><tbody><tr><td>18.087405591761677</td></tr></tbody></table></div>"
      ]
     },
     "metadata": {
      "application/vnd.databricks.v1+output": {
       "addedWidgets": {},
       "aggData": [],
       "aggError": "",
       "aggOverflow": false,
       "aggSchema": [],
       "aggSeriesLimitReached": false,
       "aggType": "",
       "arguments": {},
       "columnCustomDisplayInfos": {},
       "data": [
        [
         18.087405591761677
        ]
       ],
       "datasetInfos": [],
       "dbfsResultPath": null,
       "isJsonSchema": true,
       "metadata": {},
       "overflow": false,
       "plotOptions": {
        "customPlotOptions": {},
        "displayType": "table",
        "pivotAggregation": null,
        "pivotColumns": null,
        "xColumns": null,
        "yColumns": null
       },
       "removedWidgets": [],
       "schema": [
        {
         "metadata": "{}",
         "name": "percentual_medio_vegetacao",
         "type": "\"double\""
        }
       ],
       "type": "table"
      }
     },
     "output_type": "display_data"
    }
   ],
   "source": [
    "# Consulta 5\n",
    "# Percentual médio de área remanescente de vegetação nativa\n",
    "query5 = spark.sql(\"\"\"\n",
    "    SELECT AVG(area_remanescente_vegetacao_nativa / area_do_imovel * 100) AS percentual_medio_vegetacao\n",
    "    FROM gold_temas_ambientais\n",
    "\"\"\")\n",
    "\n",
    "# Exibir os resultados\n",
    "display(query5)\n"
   ]
  },
  {
   "cell_type": "code",
   "execution_count": 0,
   "metadata": {
    "application/vnd.databricks.v1+cell": {
     "cellMetadata": {
      "byteLimit": 2048000,
      "rowLimit": 10000
     },
     "inputWidgets": {},
     "nuid": "ffcb1cc8-9647-47b5-9414-ab4fd9a0a1ac",
     "showTitle": false,
     "tableResultSettingsMap": {},
     "title": ""
    }
   },
   "outputs": [
    {
     "output_type": "stream",
     "name": "stdout",
     "output_type": "stream",
     "text": [
      "+---+------------------+\n| uf|total_propriedades|\n+---+------------------+\n| BA|           1012499|\n| MG|            989446|\n| RS|            606454|\n| PR|            496164|\n| SP|            408528|\n| SC|            374918|\n| PE|            339371|\n| CE|            314866|\n| PA|            279598|\n| MA|            273642|\n| PI|            255052|\n| GO|            199690|\n| PB|            170851|\n| MT|            170205|\n| RO|            147287|\n| AL|            114610|\n| ES|            108849|\n| SE|             94418|\n| RN|             89357|\n| TO|             85537|\n+---+------------------+\nonly showing top 20 rows\n\n"
     ]
    }
   ],
   "source": [
    "# Consulta 6\n",
    "# Contagem de propriedades por estado\n",
    "query6 = spark.sql(\"\"\"\n",
    "    SELECT uf, COUNT(*) AS total_propriedades\n",
    "    FROM gold_temas_ambientais\n",
    "    GROUP BY uf\n",
    "    ORDER BY total_propriedades DESC\n",
    "\"\"\")\n",
    "\n",
    "# Exibir os resultados\n",
    "query6.show()\n"
   ]
  },
  {
   "cell_type": "code",
   "execution_count": 0,
   "metadata": {
    "application/vnd.databricks.v1+cell": {
     "cellMetadata": {
      "byteLimit": 2048000,
      "rowLimit": 10000
     },
     "inputWidgets": {},
     "nuid": "330af7a2-f761-4f2e-b9ff-f52feaa12db3",
     "showTitle": false,
     "tableResultSettingsMap": {},
     "title": ""
    }
   },
   "outputs": [
    {
     "output_type": "stream",
     "name": "stdout",
     "output_type": "stream",
     "text": [
      "A maior propriedade tem 2420078.7379 hectares e está localizada a 2562.13 km de Brasília.\n"
     ]
    }
   ],
   "source": [
    "# Consulta 7\n",
    "import math\n",
    "\n",
    "# Define a função para calcular a distância\n",
    "def haversine(lat1, lon1, lat2, lon2):\n",
    "    R = 6371  # Raio da Terra em km\n",
    "    dlat = math.radians(lat2 - lat1)\n",
    "    dlon = math.radians(lon2 - lon1)\n",
    "    a = math.sin(dlat/2)**2 + math.cos(math.radians(lat1)) * math.cos(math.radians(lat2)) * math.sin(dlon/2)**2\n",
    "    c = 2 * math.atan2(math.sqrt(a), math.sqrt(1 - a))\n",
    "    return R * c\n",
    "\n",
    "# Identificar a maior propriedade\n",
    "query7_max = spark.sql(\"\"\"\n",
    "    SELECT latitude, longitude, area_do_imovel\n",
    "    FROM gold_temas_ambientais\n",
    "    ORDER BY area_do_imovel DESC\n",
    "    LIMIT 1\n",
    "\"\"\").collect()\n",
    "\n",
    "# Coordenadas da maior propriedade\n",
    "largest_property = query7_max[0]\n",
    "lat_prop, lon_prop, area = largest_property[\"latitude\"], largest_property[\"longitude\"], largest_property[\"area_do_imovel\"]\n",
    "\n",
    "# Calcular a distância até Brasília\n",
    "distance_to_brasilia = haversine(lat_prop, lon_prop, -15.796943053171708, -47.891638482569476)\n",
    "\n",
    "# Exibir os resultados\n",
    "print(f\"A maior propriedade tem {area} hectares e está localizada a {distance_to_brasilia:.2f} km de Brasília.\")\n"
   ]
  },
  {
   "cell_type": "code",
   "execution_count": 0,
   "metadata": {
    "application/vnd.databricks.v1+cell": {
     "cellMetadata": {
      "byteLimit": 2048000,
      "rowLimit": 10000
     },
     "inputWidgets": {},
     "nuid": "fbb13d9a-555a-41da-8f9b-8826000204da",
     "showTitle": false,
     "tableResultSettingsMap": {},
     "title": ""
    }
   },
   "outputs": [
    {
     "output_type": "display_data",
     "data": {
      "text/html": [
       "<style scoped>\n",
       "  .table-result-container {\n",
       "    max-height: 300px;\n",
       "    overflow: auto;\n",
       "  }\n",
       "  table, th, td {\n",
       "    border: 1px solid black;\n",
       "    border-collapse: collapse;\n",
       "  }\n",
       "  th, td {\n",
       "    padding: 5px;\n",
       "  }\n",
       "  th {\n",
       "    text-align: left;\n",
       "  }\n",
       "</style><div class='table-result-container'><table class='table-result'><thead style='background-color: white'><tr><th>uf</th><th>total_propriedades</th></tr></thead><tbody><tr><td>MG</td><td>107875</td></tr><tr><td>PA</td><td>86698</td></tr><tr><td>MT</td><td>78569</td></tr><tr><td>GO</td><td>61385</td></tr><tr><td>BA</td><td>50508</td></tr><tr><td>SP</td><td>45229</td></tr><tr><td>MA</td><td>42202</td></tr><tr><td>RS</td><td>40274</td></tr><tr><td>MS</td><td>33762</td></tr><tr><td>TO</td><td>33389</td></tr><tr><td>RO</td><td>32665</td></tr><tr><td>PR</td><td>32005</td></tr><tr><td>PI</td><td>27223</td></tr><tr><td>CE</td><td>22931</td></tr><tr><td>AM</td><td>21412</td></tr><tr><td>PE</td><td>12274</td></tr><tr><td>SC</td><td>10667</td></tr><tr><td>AC</td><td>10559</td></tr><tr><td>RR</td><td>8532</td></tr><tr><td>PB</td><td>8309</td></tr><tr><td>RN</td><td>7519</td></tr><tr><td>ES</td><td>6378</td></tr><tr><td>RJ</td><td>6326</td></tr><tr><td>AP</td><td>3759</td></tr><tr><td>AL</td><td>3641</td></tr><tr><td>SE</td><td>3177</td></tr><tr><td>DF</td><td>1040</td></tr></tbody></table></div>"
      ]
     },
     "metadata": {
      "application/vnd.databricks.v1+output": {
       "addedWidgets": {},
       "aggData": [],
       "aggError": "",
       "aggOverflow": false,
       "aggSchema": [],
       "aggSeriesLimitReached": false,
       "aggType": "",
       "arguments": {},
       "columnCustomDisplayInfos": {},
       "data": [
        [
         "MG",
         107875
        ],
        [
         "PA",
         86698
        ],
        [
         "MT",
         78569
        ],
        [
         "GO",
         61385
        ],
        [
         "BA",
         50508
        ],
        [
         "SP",
         45229
        ],
        [
         "MA",
         42202
        ],
        [
         "RS",
         40274
        ],
        [
         "MS",
         33762
        ],
        [
         "TO",
         33389
        ],
        [
         "RO",
         32665
        ],
        [
         "PR",
         32005
        ],
        [
         "PI",
         27223
        ],
        [
         "CE",
         22931
        ],
        [
         "AM",
         21412
        ],
        [
         "PE",
         12274
        ],
        [
         "SC",
         10667
        ],
        [
         "AC",
         10559
        ],
        [
         "RR",
         8532
        ],
        [
         "PB",
         8309
        ],
        [
         "RN",
         7519
        ],
        [
         "ES",
         6378
        ],
        [
         "RJ",
         6326
        ],
        [
         "AP",
         3759
        ],
        [
         "AL",
         3641
        ],
        [
         "SE",
         3177
        ],
        [
         "DF",
         1040
        ]
       ],
       "datasetInfos": [],
       "dbfsResultPath": null,
       "isJsonSchema": true,
       "metadata": {},
       "overflow": false,
       "plotOptions": {
        "customPlotOptions": {},
        "displayType": "table",
        "pivotAggregation": null,
        "pivotColumns": null,
        "xColumns": null,
        "yColumns": null
       },
       "removedWidgets": [],
       "schema": [
        {
         "metadata": "{}",
         "name": "uf",
         "type": "\"string\""
        },
        {
         "metadata": "{}",
         "name": "total_propriedades",
         "type": "\"long\""
        }
       ],
       "type": "table"
      }
     },
     "output_type": "display_data"
    }
   ],
   "source": [
    "# Consulta 8\n",
    "# Calcular a média de área total\n",
    "avg_area = spark.sql(\"\"\"\n",
    "    SELECT AVG(area_do_imovel) AS media_area_total\n",
    "    FROM gold_temas_ambientais\n",
    "\"\"\").collect()[0][\"media_area_total\"]\n",
    "\n",
    "# Filtrar propriedades acima da média por estado\n",
    "query8 = spark.sql(f\"\"\"\n",
    "    SELECT uf, COUNT(*) AS total_propriedades\n",
    "    FROM gold_temas_ambientais\n",
    "    WHERE area_do_imovel > {avg_area}\n",
    "    GROUP BY uf\n",
    "    ORDER BY total_propriedades DESC\n",
    "\"\"\")\n",
    "\n",
    "# Exibir os resultados\n",
    "display(query8)"
   ]
  },
  {
   "cell_type": "markdown",
   "metadata": {
    "application/vnd.databricks.v1+cell": {
     "cellMetadata": {},
     "inputWidgets": {},
     "nuid": "6deb40b4-d72b-4b01-833e-355545a25cdd",
     "showTitle": false,
     "tableResultSettingsMap": {},
     "title": ""
    }
   },
   "source": [
    "### Avaliar o Tempo de Resposta das Consultas"
   ]
  },
  {
   "cell_type": "code",
   "execution_count": 0,
   "metadata": {
    "application/vnd.databricks.v1+cell": {
     "cellMetadata": {
      "byteLimit": 2048000,
      "rowLimit": 10000
     },
     "inputWidgets": {},
     "nuid": "9518a988-348c-470b-abc1-a63e92bc8437",
     "showTitle": false,
     "tableResultSettingsMap": {},
     "title": ""
    }
   },
   "outputs": [
    {
     "output_type": "stream",
     "name": "stdout",
     "output_type": "stream",
     "text": [
      "+---+-------------------+\n| uf|total_area_hectares|\n+---+-------------------+\n| MT|8.458708926979955E7|\n| MS|3.632188266120003E7|\n+---+-------------------+\n\nTempo de execução: 2.20 segundos\n"
     ]
    }
   ],
   "source": [
    "import time\n",
    "\n",
    "# Exemplo: Medir tempo de execução para Consulta 1\n",
    "start_time = time.time()\n",
    "\n",
    "query1 = spark.sql(\"\"\"\n",
    "    SELECT uf, SUM(area_do_imovel) AS total_area_hectares\n",
    "    FROM gold_temas_ambientais\n",
    "    WHERE uf IN ('MS', 'MT')\n",
    "    GROUP BY uf\n",
    "    ORDER BY total_area_hectares DESC\n",
    "\"\"\")\n",
    "query1.show()\n",
    "\n",
    "end_time = time.time()\n",
    "print(f\"Tempo de execução: {end_time - start_time:.2f} segundos\")\n"
   ]
  }
 ],
 "metadata": {
  "application/vnd.databricks.v1+notebook": {
   "dashboards": [],
   "environmentMetadata": null,
   "language": "python",
   "notebookMetadata": {
    "pythonIndentUnit": 4
   },
   "notebookName": "Arquitetura Distribuída para o Cadastro Ambiental Rural",
   "widgets": {}
  }
 },
 "nbformat": 4,
 "nbformat_minor": 0
}
